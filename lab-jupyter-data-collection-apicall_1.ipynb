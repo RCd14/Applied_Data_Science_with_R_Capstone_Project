{
 "cells": [
  {
   "cell_type": "markdown",
   "metadata": {},
   "source": [
    "<a href=\"https://cognitiveclass.ai/?utm_medium=Exinfluencer&utm_source=Exinfluencer&utm_content=000026UJ&utm_term=10006555&utm_id=NA-SkillsNetwork-Channel-SkillsNetworkCoursesIBMDeveloperSkillsNetworkRP0321ENSkillsNetwork25371262-2022-01-01\">\n",
    "    <img src=\"https://cf-courses-data.s3.us.cloud-object-storage.appdomain.cloud/IBMDeveloperSkillsNetwork-RP0101EN-Coursera/v2/M1_R_Basics/images/IDSNlogo.png\" width=\"200\" align=\"center\">\n",
    "</a>\n"
   ]
  },
  {
   "cell_type": "markdown",
   "metadata": {},
   "source": [
    "<h1>OpenWeather APIs Calls</h1>\n",
    "\n",
    "Estimated time needed: **40** minutes\n"
   ]
  },
  {
   "cell_type": "markdown",
   "metadata": {},
   "source": [
    "## Lab Overview:\n",
    "\n",
    "In this lab, you will be collecting real-time current and forecasted weather data for cities using the **OpenWeather API**. It can give you current weather data for any location including over 200,000 cities and 5 day forecasts for free (with limited API usage). You just need to use HTTP requests to call those weather APIs and get the weather data.\n",
    "\n",
    "You will be given instructions to set up a free OpenWeather API account with an API key for authentication. Then, you will be shown, with code examples, how to get the current weather for a given city. After you are familiar with OpenWeather API, you will be asked to get 5-day forecast data for a list of cities.\n"
   ]
  },
  {
   "cell_type": "markdown",
   "metadata": {},
   "source": [
    "## Setup OpenWeather API account\n"
   ]
  },
  {
   "cell_type": "markdown",
   "metadata": {},
   "source": [
    "You can create an OpenWeather API account [here](https://home.openweathermap.org/users/sign_up?utm_medium=Exinfluencer&utm_source=Exinfluencer&utm_content=000026UJ&utm_term=10006555&utm_id=NA-SkillsNetwork-Channel-SkillsNetworkCoursesIBMDeveloperSkillsNetworkRP0321ENSkillsNetwork25371262-2022-01-01). After your account has been created and verified, you can go to Account -> My API Keys:\n"
   ]
  },
  {
   "cell_type": "markdown",
   "metadata": {},
   "source": [
    "<a href=\"https://cognitiveclass.ai/?utm_medium=Exinfluencer&utm_source=Exinfluencer&utm_content=000026UJ&utm_term=10006555&utm_id=NA-SkillsNetwork-Channel-SkillsNetworkCoursesIBMDeveloperSkillsNetworkRP0321ENSkillsNetwork25371262-2022-01-01\">\n",
    "    <img src=\"https://cf-courses-data.s3.us.cloud-object-storage.appdomain.cloud/IBMDeveloperSkillsNetwork-RP0321EN-SkillsNetwork/labs/module_1/images/l2-openweather-apikey.png\" width=\"400\" align=\"center\">\n",
    "</a>\n"
   ]
  },
  {
   "cell_type": "markdown",
   "metadata": {},
   "source": [
    "and find your API key here:\n"
   ]
  },
  {
   "cell_type": "markdown",
   "metadata": {},
   "source": [
    "<a href=\"https://cognitiveclass.ai/?utm_medium=Exinfluencer&utm_source=Exinfluencer&utm_content=000026UJ&utm_term=10006555&utm_id=NA-SkillsNetwork-Channel-SkillsNetworkCoursesIBMDeveloperSkillsNetworkRP0321ENSkillsNetwork25371262-2022-01-01\">\n",
    "    <img src=\"https://cf-courses-data.s3.us.cloud-object-storage.appdomain.cloud/IBMDeveloperSkillsNetwork-RP0321EN-SkillsNetwork/labs/module_1/images/l2-openweather-apikey-value.png\" width=\"400\" align=\"center\">\n",
    "</a>\n"
   ]
  },
  {
   "cell_type": "markdown",
   "metadata": {},
   "source": [
    "Now mark down your generated API key, which will be used to authenticate your HTTP requests to OpenWeather API.\n",
    "\n",
    "Note that a new API key may take some time to be activated. You may quickly try the following URL using a web browser.\n",
    "\n",
    "With the `{your_api_key}` URL parameter replaced by your own API key and go to the following URL:\n",
    "\n",
    "[https://api.openweathermap.org/data/2.5/weather?q=Seoul\\&appid={your_api_key}](https://api.openweathermap.org/data/2.5/weather?utm_medium=Exinfluencer&utm_source=Exinfluencer&utm_content=000026UJ&utm_term=10006555&utm_id=NA-SkillsNetwork-Channel-SkillsNetworkCoursesIBMDeveloperSkillsNetworkRP0321ENSkillsNetwork25371262-2022-01-01&q=Seoul&appid=%7Byour_api_key%7D)\n"
   ]
  },
  {
   "cell_type": "markdown",
   "metadata": {},
   "source": [
    "until you see some weather data returned (instead of 401 or other error status), similar to the following JSON result:\n",
    "\n",
    "```\n",
    "{\"coord\":{\"lon\":126.9778,\"lat\":37.5683},\n",
    "\"weather\":[{\"id\":800,\"main\":\"Clear\",\"description\":\"clear sky\",\"icon\":\"01n\"}],\n",
    "\"base\":\"stations\",\n",
    "\"main\":{\"temp\":285.16,\"feels_like\":284.04,\"temp_min\":284.15,\"temp_max\":287.15,\"pressure\":1020,\"humidity\":62},\n",
    "\"visibility\":10000,\n",
    "\"wind\":{\"speed\":1.03,\"deg\":220},\"clouds\":{\"all\":0},\"dt\":1617718307,\"sys\":{\"type\":1,\"id\":8105,\"country\":\"KR\",\"sunrise\":1617657021,\"sunset\":1617703103},\"timezone\":32400,\"id\":1835848,\"name\":\"Seoul\",\"cod\":200}\n",
    "```\n"
   ]
  },
  {
   "cell_type": "markdown",
   "metadata": {},
   "source": [
    "## Coding Practice: Get the current weather data for a city using OpenWeather API\n"
   ]
  },
  {
   "cell_type": "markdown",
   "metadata": {},
   "source": [
    "First import `httr` library\n"
   ]
  },
  {
   "cell_type": "code",
   "execution_count": 156,
   "metadata": {},
   "outputs": [],
   "source": [
    "# Check if need to install rvest` library\n",
    "require(\"httr\")\n",
    "\n",
    "library(httr)"
   ]
  },
  {
   "cell_type": "markdown",
   "metadata": {},
   "source": [
    "The API base URL to get current weather is [https://api.openweathermap.org/data/2.5/weather](https://api.openweathermap.org/data/2.5/weather?utm_medium=Exinfluencer&utm_source=Exinfluencer&utm_content=000026UJ&utm_term=10006555&utm_id=NA-SkillsNetwork-Channel-SkillsNetworkCoursesIBMDeveloperSkillsNetworkRP0321ENSkillsNetwork25371262-2022-01-01)\n"
   ]
  },
  {
   "cell_type": "code",
   "execution_count": 157,
   "metadata": {},
   "outputs": [],
   "source": [
    "# URL for Current Weather API\n",
    "current_weather_url <- 'https://api.openweathermap.org/data/2.5/weather'"
   ]
  },
  {
   "cell_type": "markdown",
   "metadata": {},
   "source": [
    "Next, let's create a list to hold URL parameters for current weather API\n"
   ]
  },
  {
   "cell_type": "code",
   "execution_count": 158,
   "metadata": {},
   "outputs": [],
   "source": [
    "# need to be replaced by your real API key\n",
    "your_api_key <- \"*add*\"\n",
    "# Input `q` is the city name\n",
    "# Input `appid` is your API KEY, \n",
    "# Input `units` are preferred units such as Metric or Imperial\n",
    "current_query <- list(q = \"Seoul\", appid = '*add*', units=\"metric\")"
   ]
  },
  {
   "cell_type": "markdown",
   "metadata": {},
   "source": [
    "Now we can make a HTTP request to the current weather API\n"
   ]
  },
  {
   "cell_type": "code",
   "execution_count": 159,
   "metadata": {},
   "outputs": [],
   "source": [
    "response <- GET(current_weather_url, query=current_query)"
   ]
  },
  {
   "cell_type": "code",
   "execution_count": 160,
   "metadata": {
    "collapsed": true
   },
   "outputs": [
    {
     "data": {
      "text/plain": [
       "Response [https://api.openweathermap.org/data/2.5/weather?q=Seoul&appid=d1522f5679d0d64571b94ac18f9a51ef&units=metric]\n",
       "  Date: 2022-09-06 16:46\n",
       "  Status: 200\n",
       "  Content-Type: application/json; charset=utf-8\n",
       "  Size: 467 B\n"
      ]
     },
     "metadata": {},
     "output_type": "display_data"
    }
   ],
   "source": [
    "response"
   ]
  },
  {
   "cell_type": "markdown",
   "metadata": {},
   "source": [
    "If we check the response type, we can see it is in JSON format\n"
   ]
  },
  {
   "cell_type": "code",
   "execution_count": 161,
   "metadata": {},
   "outputs": [
    {
     "data": {
      "text/html": [
       "'application/json'"
      ],
      "text/latex": [
       "'application/json'"
      ],
      "text/markdown": [
       "'application/json'"
      ],
      "text/plain": [
       "[1] \"application/json\""
      ]
     },
     "metadata": {},
     "output_type": "display_data"
    }
   ],
   "source": [
    "http_type(response)"
   ]
  },
  {
   "cell_type": "markdown",
   "metadata": {},
   "source": [
    "JSON is an open standard file and data interchange format that uses human-readable text to store and transmit data objects. To read the JSON HTTP response, you can use the `content()` function to parse it as a named list in R.\n"
   ]
  },
  {
   "cell_type": "code",
   "execution_count": 162,
   "metadata": {},
   "outputs": [],
   "source": [
    "json_result <- content(response, as=\"parsed\")"
   ]
  },
  {
   "cell_type": "markdown",
   "metadata": {},
   "source": [
    "If you use the `class()` function, you can see it is a R `List` object\n"
   ]
  },
  {
   "cell_type": "code",
   "execution_count": 163,
   "metadata": {},
   "outputs": [
    {
     "data": {
      "text/html": [
       "'list'"
      ],
      "text/latex": [
       "'list'"
      ],
      "text/markdown": [
       "'list'"
      ],
      "text/plain": [
       "[1] \"list\""
      ]
     },
     "metadata": {},
     "output_type": "display_data"
    }
   ],
   "source": [
    "class(json_result)"
   ]
  },
  {
   "cell_type": "markdown",
   "metadata": {},
   "source": [
    "Now let's print the JSON result.\n"
   ]
  },
  {
   "cell_type": "code",
   "execution_count": 164,
   "metadata": {},
   "outputs": [
    {
     "data": {
      "text/html": [
       "<dl>\n",
       "\t<dt>$coord</dt>\n",
       "\t\t<dd><dl>\n",
       "\t<dt>$lon</dt>\n",
       "\t\t<dd>126.9778</dd>\n",
       "\t<dt>$lat</dt>\n",
       "\t\t<dd>37.5683</dd>\n",
       "</dl>\n",
       "</dd>\n",
       "\t<dt>$weather</dt>\n",
       "\t\t<dd><ol>\n",
       "\t<li><dl>\n",
       "\t<dt>$id</dt>\n",
       "\t\t<dd>801</dd>\n",
       "\t<dt>$main</dt>\n",
       "\t\t<dd>'Clouds'</dd>\n",
       "\t<dt>$description</dt>\n",
       "\t\t<dd>'few clouds'</dd>\n",
       "\t<dt>$icon</dt>\n",
       "\t\t<dd>'02n'</dd>\n",
       "</dl>\n",
       "</li>\n",
       "</ol>\n",
       "</dd>\n",
       "\t<dt>$base</dt>\n",
       "\t\t<dd>'stations'</dd>\n",
       "\t<dt>$main</dt>\n",
       "\t\t<dd><dl>\n",
       "\t<dt>$temp</dt>\n",
       "\t\t<dd>18.99</dd>\n",
       "\t<dt>$feels_like</dt>\n",
       "\t\t<dd>19.24</dd>\n",
       "\t<dt>$temp_min</dt>\n",
       "\t\t<dd>16.66</dd>\n",
       "\t<dt>$temp_max</dt>\n",
       "\t\t<dd>21.69</dd>\n",
       "\t<dt>$pressure</dt>\n",
       "\t\t<dd>1013</dd>\n",
       "\t<dt>$humidity</dt>\n",
       "\t\t<dd>88</dd>\n",
       "</dl>\n",
       "</dd>\n",
       "\t<dt>$visibility</dt>\n",
       "\t\t<dd>10000</dd>\n",
       "\t<dt>$wind</dt>\n",
       "\t\t<dd><dl>\n",
       "\t<dt>$speed</dt>\n",
       "\t\t<dd>3.09</dd>\n",
       "\t<dt>$deg</dt>\n",
       "\t\t<dd>280</dd>\n",
       "</dl>\n",
       "</dd>\n",
       "\t<dt>$clouds</dt>\n",
       "\t\t<dd><strong>$all</strong> = 20</dd>\n",
       "\t<dt>$dt</dt>\n",
       "\t\t<dd>1662482477</dd>\n",
       "\t<dt>$sys</dt>\n",
       "\t\t<dd><dl>\n",
       "\t<dt>$type</dt>\n",
       "\t\t<dd>1</dd>\n",
       "\t<dt>$id</dt>\n",
       "\t\t<dd>8105</dd>\n",
       "\t<dt>$country</dt>\n",
       "\t\t<dd>'KR'</dd>\n",
       "\t<dt>$sunrise</dt>\n",
       "\t\t<dd>1662498422</dd>\n",
       "\t<dt>$sunset</dt>\n",
       "\t\t<dd>1662544438</dd>\n",
       "</dl>\n",
       "</dd>\n",
       "\t<dt>$timezone</dt>\n",
       "\t\t<dd>32400</dd>\n",
       "\t<dt>$id</dt>\n",
       "\t\t<dd>1835848</dd>\n",
       "\t<dt>$name</dt>\n",
       "\t\t<dd>'Seoul'</dd>\n",
       "\t<dt>$cod</dt>\n",
       "\t\t<dd>200</dd>\n",
       "</dl>\n"
      ],
      "text/latex": [
       "\\begin{description}\n",
       "\\item[\\$coord] \\begin{description}\n",
       "\\item[\\$lon] 126.9778\n",
       "\\item[\\$lat] 37.5683\n",
       "\\end{description}\n",
       "\n",
       "\\item[\\$weather] \\begin{enumerate}\n",
       "\\item \\begin{description}\n",
       "\\item[\\$id] 801\n",
       "\\item[\\$main] 'Clouds'\n",
       "\\item[\\$description] 'few clouds'\n",
       "\\item[\\$icon] '02n'\n",
       "\\end{description}\n",
       "\n",
       "\\end{enumerate}\n",
       "\n",
       "\\item[\\$base] 'stations'\n",
       "\\item[\\$main] \\begin{description}\n",
       "\\item[\\$temp] 18.99\n",
       "\\item[\\$feels\\_like] 19.24\n",
       "\\item[\\$temp\\_min] 16.66\n",
       "\\item[\\$temp\\_max] 21.69\n",
       "\\item[\\$pressure] 1013\n",
       "\\item[\\$humidity] 88\n",
       "\\end{description}\n",
       "\n",
       "\\item[\\$visibility] 10000\n",
       "\\item[\\$wind] \\begin{description}\n",
       "\\item[\\$speed] 3.09\n",
       "\\item[\\$deg] 280\n",
       "\\end{description}\n",
       "\n",
       "\\item[\\$clouds] \\textbf{\\$all} = 20\n",
       "\\item[\\$dt] 1662482477\n",
       "\\item[\\$sys] \\begin{description}\n",
       "\\item[\\$type] 1\n",
       "\\item[\\$id] 8105\n",
       "\\item[\\$country] 'KR'\n",
       "\\item[\\$sunrise] 1662498422\n",
       "\\item[\\$sunset] 1662544438\n",
       "\\end{description}\n",
       "\n",
       "\\item[\\$timezone] 32400\n",
       "\\item[\\$id] 1835848\n",
       "\\item[\\$name] 'Seoul'\n",
       "\\item[\\$cod] 200\n",
       "\\end{description}\n"
      ],
      "text/markdown": [
       "$coord\n",
       ":   $lon\n",
       ":   126.9778\n",
       "$lat\n",
       ":   37.5683\n",
       "\n",
       "\n",
       "\n",
       "$weather\n",
       ":   1. $id\n",
       ":   801\n",
       "$main\n",
       ":   'Clouds'\n",
       "$description\n",
       ":   'few clouds'\n",
       "$icon\n",
       ":   '02n'\n",
       "\n",
       "\n",
       "\n",
       "\n",
       "\n",
       "\n",
       "$base\n",
       ":   'stations'\n",
       "$main\n",
       ":   $temp\n",
       ":   18.99\n",
       "$feels_like\n",
       ":   19.24\n",
       "$temp_min\n",
       ":   16.66\n",
       "$temp_max\n",
       ":   21.69\n",
       "$pressure\n",
       ":   1013\n",
       "$humidity\n",
       ":   88\n",
       "\n",
       "\n",
       "\n",
       "$visibility\n",
       ":   10000\n",
       "$wind\n",
       ":   $speed\n",
       ":   3.09\n",
       "$deg\n",
       ":   280\n",
       "\n",
       "\n",
       "\n",
       "$clouds\n",
       ":   **$all** = 20\n",
       "$dt\n",
       ":   1662482477\n",
       "$sys\n",
       ":   $type\n",
       ":   1\n",
       "$id\n",
       ":   8105\n",
       "$country\n",
       ":   'KR'\n",
       "$sunrise\n",
       ":   1662498422\n",
       "$sunset\n",
       ":   1662544438\n",
       "\n",
       "\n",
       "\n",
       "$timezone\n",
       ":   32400\n",
       "$id\n",
       ":   1835848\n",
       "$name\n",
       ":   'Seoul'\n",
       "$cod\n",
       ":   200\n",
       "\n",
       "\n"
      ],
      "text/plain": [
       "$coord\n",
       "$coord$lon\n",
       "[1] 126.9778\n",
       "\n",
       "$coord$lat\n",
       "[1] 37.5683\n",
       "\n",
       "\n",
       "$weather\n",
       "$weather[[1]]\n",
       "$weather[[1]]$id\n",
       "[1] 801\n",
       "\n",
       "$weather[[1]]$main\n",
       "[1] \"Clouds\"\n",
       "\n",
       "$weather[[1]]$description\n",
       "[1] \"few clouds\"\n",
       "\n",
       "$weather[[1]]$icon\n",
       "[1] \"02n\"\n",
       "\n",
       "\n",
       "\n",
       "$base\n",
       "[1] \"stations\"\n",
       "\n",
       "$main\n",
       "$main$temp\n",
       "[1] 18.99\n",
       "\n",
       "$main$feels_like\n",
       "[1] 19.24\n",
       "\n",
       "$main$temp_min\n",
       "[1] 16.66\n",
       "\n",
       "$main$temp_max\n",
       "[1] 21.69\n",
       "\n",
       "$main$pressure\n",
       "[1] 1013\n",
       "\n",
       "$main$humidity\n",
       "[1] 88\n",
       "\n",
       "\n",
       "$visibility\n",
       "[1] 10000\n",
       "\n",
       "$wind\n",
       "$wind$speed\n",
       "[1] 3.09\n",
       "\n",
       "$wind$deg\n",
       "[1] 280\n",
       "\n",
       "\n",
       "$clouds\n",
       "$clouds$all\n",
       "[1] 20\n",
       "\n",
       "\n",
       "$dt\n",
       "[1] 1662482477\n",
       "\n",
       "$sys\n",
       "$sys$type\n",
       "[1] 1\n",
       "\n",
       "$sys$id\n",
       "[1] 8105\n",
       "\n",
       "$sys$country\n",
       "[1] \"KR\"\n",
       "\n",
       "$sys$sunrise\n",
       "[1] 1662498422\n",
       "\n",
       "$sys$sunset\n",
       "[1] 1662544438\n",
       "\n",
       "\n",
       "$timezone\n",
       "[1] 32400\n",
       "\n",
       "$id\n",
       "[1] 1835848\n",
       "\n",
       "$name\n",
       "[1] \"Seoul\"\n",
       "\n",
       "$cod\n",
       "[1] 200\n"
      ]
     },
     "metadata": {},
     "output_type": "display_data"
    }
   ],
   "source": [
    "json_result"
   ]
  },
  {
   "cell_type": "markdown",
   "metadata": {},
   "source": [
    "It contains very detailed weather data about the city of `Seoul`. Feel free to try other cities as well. We need to convert the named list to a data frame so that we can use data frame operations to process the data. Below is a simple example, which you may implement your own way to convert it to a data frame.\n"
   ]
  },
  {
   "cell_type": "code",
   "execution_count": 165,
   "metadata": {},
   "outputs": [],
   "source": [
    "# Create some empty vectors to hold data temporarily\n",
    "weather <- c()\n",
    "visibility <- c()\n",
    "temp <- c()\n",
    "temp_min <- c()\n",
    "temp_max <- c()\n",
    "pressure <- c()\n",
    "humidity <- c()\n",
    "wind_speed <- c()\n",
    "wind_deg <- c()\n"
   ]
  },
  {
   "cell_type": "markdown",
   "metadata": {},
   "source": [
    "Now assign the values in the `json_result` list into different vectors\n"
   ]
  },
  {
   "cell_type": "code",
   "execution_count": 166,
   "metadata": {},
   "outputs": [],
   "source": [
    "# $weather is also a list with one element, its $main element indicates the weather status such as clear or rain\n",
    "weather <- c(weather, json_result$weather[[1]]$main)\n",
    "# Get Visibility\n",
    "visibility <- c(visibility, json_result$visibility)\n",
    "# Get current temperature \n",
    "temp <- c(temp, json_result$main$temp)\n",
    "# Get min temperature \n",
    "temp_min <- c(temp_min, json_result$main$temp_min)\n",
    "# Get max temperature \n",
    "temp_max <- c(temp_max, json_result$main$temp_max)\n",
    "# Get pressure\n",
    "pressure <- c(pressure, json_result$main$pressure)\n",
    "# Get humidity\n",
    "humidity <- c(humidity, json_result$main$humidity)\n",
    "# Get wind speed\n",
    "wind_speed <- c(wind_speed, json_result$wind$speed)\n",
    "# Get wind direction\n",
    "wind_deg <- c(wind_deg, json_result$wind$deg)\n"
   ]
  },
  {
   "cell_type": "markdown",
   "metadata": {},
   "source": [
    "Combine all vectors as columns of a data frame\n"
   ]
  },
  {
   "cell_type": "code",
   "execution_count": 167,
   "metadata": {},
   "outputs": [],
   "source": [
    "# Combine all vectors\n",
    "weather_data_frame <- data.frame(weather=weather, \n",
    "                                 visibility=visibility, \n",
    "                                 temp=temp, \n",
    "                                 temp_min=temp_min, \n",
    "                                 temp_max=temp_max, \n",
    "                                 pressure=pressure, \n",
    "                                 humidity=humidity, \n",
    "                                 wind_speed=wind_speed, \n",
    "                                 wind_deg=wind_deg)"
   ]
  },
  {
   "cell_type": "code",
   "execution_count": 168,
   "metadata": {},
   "outputs": [
    {
     "data": {
      "text/html": [
       "<table>\n",
       "<caption>A data.frame: 1 × 9</caption>\n",
       "<thead>\n",
       "\t<tr><th scope=col>weather</th><th scope=col>visibility</th><th scope=col>temp</th><th scope=col>temp_min</th><th scope=col>temp_max</th><th scope=col>pressure</th><th scope=col>humidity</th><th scope=col>wind_speed</th><th scope=col>wind_deg</th></tr>\n",
       "\t<tr><th scope=col>&lt;fct&gt;</th><th scope=col>&lt;int&gt;</th><th scope=col>&lt;dbl&gt;</th><th scope=col>&lt;dbl&gt;</th><th scope=col>&lt;dbl&gt;</th><th scope=col>&lt;int&gt;</th><th scope=col>&lt;int&gt;</th><th scope=col>&lt;dbl&gt;</th><th scope=col>&lt;int&gt;</th></tr>\n",
       "</thead>\n",
       "<tbody>\n",
       "\t<tr><td>Clouds</td><td>10000</td><td>18.99</td><td>16.66</td><td>21.69</td><td>1013</td><td>88</td><td>3.09</td><td>280</td></tr>\n",
       "</tbody>\n",
       "</table>\n"
      ],
      "text/latex": [
       "A data.frame: 1 × 9\n",
       "\\begin{tabular}{lllllllll}\n",
       " weather & visibility & temp & temp\\_min & temp\\_max & pressure & humidity & wind\\_speed & wind\\_deg\\\\\n",
       " <fct> & <int> & <dbl> & <dbl> & <dbl> & <int> & <int> & <dbl> & <int>\\\\\n",
       "\\hline\n",
       "\t Clouds & 10000 & 18.99 & 16.66 & 21.69 & 1013 & 88 & 3.09 & 280\\\\\n",
       "\\end{tabular}\n"
      ],
      "text/markdown": [
       "\n",
       "A data.frame: 1 × 9\n",
       "\n",
       "| weather &lt;fct&gt; | visibility &lt;int&gt; | temp &lt;dbl&gt; | temp_min &lt;dbl&gt; | temp_max &lt;dbl&gt; | pressure &lt;int&gt; | humidity &lt;int&gt; | wind_speed &lt;dbl&gt; | wind_deg &lt;int&gt; |\n",
       "|---|---|---|---|---|---|---|---|---|\n",
       "| Clouds | 10000 | 18.99 | 16.66 | 21.69 | 1013 | 88 | 3.09 | 280 |\n",
       "\n"
      ],
      "text/plain": [
       "  weather visibility temp  temp_min temp_max pressure humidity wind_speed\n",
       "1 Clouds  10000      18.99 16.66    21.69    1013     88       3.09      \n",
       "  wind_deg\n",
       "1 280     "
      ]
     },
     "metadata": {},
     "output_type": "display_data"
    }
   ],
   "source": [
    "weather_data_frame"
   ]
  },
  {
   "cell_type": "code",
   "execution_count": 169,
   "metadata": {},
   "outputs": [
    {
     "name": "stdout",
     "output_type": "stream",
     "text": [
      "  weather visibility  temp temp_min temp_max pressure humidity wind_speed\n",
      "1  Clouds      10000 18.99    16.66    21.69     1013       88       3.09\n",
      "  wind_deg\n",
      "1      280\n"
     ]
    }
   ],
   "source": [
    "# Check the generated data frame\n",
    "print(weather_data_frame)"
   ]
  },
  {
   "cell_type": "markdown",
   "metadata": {},
   "source": [
    "# TASK:  Get 5-day weather forecasts for a list of cities using the OpenWeather API\n"
   ]
  },
  {
   "cell_type": "markdown",
   "metadata": {},
   "source": [
    "Now you should be familiar with the usage of OpenWeather API. Next, you need to complete a task to get 5-day weather forecasts for a list of cities\n"
   ]
  },
  {
   "cell_type": "markdown",
   "metadata": {},
   "source": [
    "*TODO:* Write a function to return a data frame containing 5-day weather forecasts for a list of cities\n"
   ]
  },
  {
   "cell_type": "code",
   "execution_count": 513,
   "metadata": {},
   "outputs": [],
   "source": [
    "# Create some empty vectors to hold data temporarily\n",
    "\n",
    "# City name column\n",
    "city <- c()\n",
    "# Weather column, rainy or cloudy, etc\n",
    "weather <- c()\n",
    "# Sky visibility column\n",
    "visibility <- c()\n",
    "# Current temperature column\n",
    "temp <- c()\n",
    "# Max temperature column\n",
    "temp_min <- c()\n",
    "# Min temperature column\n",
    "temp_max <- c()\n",
    "# Pressure column\n",
    "pressure <- c()\n",
    "# Humidity column\n",
    "humidity <- c()\n",
    "# Wind speed column\n",
    "wind_speed <- c()\n",
    "# Wind direction column\n",
    "wind_deg <- c()\n",
    "# Forecast timestamp\n",
    "forecast_datetime <- c()\n",
    "# Season column\n",
    "# Note that for season, you can hard code a season value from levels Spring, Summer, Autumn, and Winter based on your current month.\n",
    "season <- c()\n",
    "current_month<- c()\n"
   ]
  },
  {
   "cell_type": "code",
   "execution_count": 517,
   "metadata": {},
   "outputs": [],
   "source": [
    "# Get forecast data for a given city list\n",
    "\n",
    "get_weather_forecaset_by_cities <- function(city_names){\n",
    "    df <- data.frame()\n",
    "    for (city_name in city_names){\n",
    "        # Forecast API URL\n",
    "        forecast_url <- 'https://api.openweathermap.org/data/2.5/forecast'\n",
    "        # Create query parameters\n",
    "        forecast_query <- list(q = city_name, appid = \"*add_id*\", units=\"metric\")\n",
    "        # Make HTTP GET call for the given city\n",
    "        response <- GET(forecast_url, query=forecast_query)\n",
    "        \n",
    "        # Note that the 5-day forecast JSON result is a list of lists. You can print the reponse to check the results\n",
    "        json_list <- content(response, as=\"parsed\")\n",
    "        results <- json_list$list\n",
    "        \n",
    "        \n",
    "        # Loop the json result\n",
    "        for(result in results) {\n",
    "            \n",
    "            # Add the R Lists into a data frame\n",
    "        city <- c(city, city_name)\n",
    "        weather <- c(weather, result$weather[[1]]$main)\n",
    "        visibility <-c(visibility, result$visibility)\n",
    "        temp <-c(temp, result$main$temp)\n",
    "        temp_min <- c(temp_min, result$main$temp_min)\n",
    "        temp_max <- c(temp_max, result$main$temp_max)\n",
    "        pressure <- c(pressure, result$main$pressure)\n",
    "        humidity <-c(humidity, result$main$ humidity)\n",
    "        wind_speed <- c(wind_speed, result$wind$speed)\n",
    "        wind_deg  <- c(wind_deg , result$wind$deg )\n",
    "        \n",
    "        \n",
    "        #Get datatime\n",
    "        forecast_datetime <- c(forecast_datetime , result$dt_txt)\n",
    "        #forecast_datetime<-as.POSIXct(forecast_datetime,  format = \"%Y-%m-%d %H:%M:%S\")\n",
    "        #forecast_datetime<-format(forecast_datetime, format = \"%H:%M:%S\")\n",
    "        \n",
    "        #Get Season such as Spring, Summer, Autumn, and Winter based on your current month\n",
    "        current_month <-  c(current_month, result$dt_txt) \n",
    "        current_month <-as.POSIXct(current_month, format = \"%Y-%m-%d %H:%M:%S\")\n",
    "        current_month <-format(current_month, format = \"%m\")\n",
    "        current_month<- as.integer(current_month)\n",
    "       \n",
    "         #Conditions by season of the month \n",
    "        ifelse(current_month==12 |1 |2,season<-\"Winter\", season)\n",
    "        ifelse(current_month>2 & current_month <=5,season<-\"Spring\", season)\n",
    "        ifelse(current_month>5 & current_month <=8,season<-\"Summer\", season)\n",
    "        ifelse(current_month>8 & current_month <=11,season<-\"Autumn\", season)\n",
    "            \n",
    "            }\n",
    "                      \n",
    "        # Combine all vectors\n",
    "          df <- data.frame(city=city,\n",
    "                           weather=weather ,\n",
    "                           visibility=visibility,\n",
    "                           temp=temp,\n",
    "                           temp_min=temp_min, \n",
    "                           temp_max=temp_max, \n",
    "                           pressure=pressure,\n",
    "                           humidity=humidity,\n",
    "                           wind_speed=wind_speed,\n",
    "                           wind_deg=wind_deg,\n",
    "                           forecast_datetime=forecast_datetime,\n",
    "                           season=season\n",
    "                                 )\n",
    "        \n",
    "       \n",
    "        \n",
    "    }\n",
    "    \n",
    "    # Return a data frame\n",
    "    return(df)\n",
    "    \n",
    "}\n"
   ]
  },
  {
   "cell_type": "markdown",
   "metadata": {},
   "source": [
    "Complete and call `get_weather_forecaset_by_cities` function with a list of cities, and write the data frame into a csv file called `cities_weather_forecast.csv`\n"
   ]
  },
  {
   "cell_type": "code",
   "execution_count": 518,
   "metadata": {},
   "outputs": [],
   "source": [
    "cities <- c(\"Seoul\", \"Washington, D.C.\", \"Paris\", \"Suzhou\")\n",
    "cities_weather_df <- get_weather_forecaset_by_cities(cities)\n"
   ]
  },
  {
   "cell_type": "code",
   "execution_count": 519,
   "metadata": {},
   "outputs": [
    {
     "data": {
      "text/html": [
       "<table>\n",
       "<caption>A data.frame: 160 × 12</caption>\n",
       "<thead>\n",
       "\t<tr><th scope=col>city</th><th scope=col>weather</th><th scope=col>visibility</th><th scope=col>temp</th><th scope=col>temp_min</th><th scope=col>temp_max</th><th scope=col>pressure</th><th scope=col>humidity</th><th scope=col>wind_speed</th><th scope=col>wind_deg</th><th scope=col>forecast_datetime</th><th scope=col>season</th></tr>\n",
       "\t<tr><th scope=col>&lt;fct&gt;</th><th scope=col>&lt;fct&gt;</th><th scope=col>&lt;int&gt;</th><th scope=col>&lt;dbl&gt;</th><th scope=col>&lt;dbl&gt;</th><th scope=col>&lt;dbl&gt;</th><th scope=col>&lt;int&gt;</th><th scope=col>&lt;int&gt;</th><th scope=col>&lt;dbl&gt;</th><th scope=col>&lt;int&gt;</th><th scope=col>&lt;fct&gt;</th><th scope=col>&lt;fct&gt;</th></tr>\n",
       "</thead>\n",
       "<tbody>\n",
       "\t<tr><td>Seoul</td><td>Clouds</td><td>10000</td><td>16.16</td><td>16.16</td><td>17.66</td><td>1015</td><td>97</td><td>0.66</td><td>103</td><td>2022-09-06 21:00:00</td><td>Autumn</td></tr>\n",
       "\t<tr><td>Seoul</td><td>Clouds</td><td>10000</td><td>18.04</td><td>18.04</td><td>21.79</td><td>1016</td><td>83</td><td>0.34</td><td>116</td><td>2022-09-07 00:00:00</td><td>Autumn</td></tr>\n",
       "\t<tr><td>Seoul</td><td>Clouds</td><td>10000</td><td>22.80</td><td>22.80</td><td>26.12</td><td>1016</td><td>54</td><td>1.37</td><td>278</td><td>2022-09-07 03:00:00</td><td>Autumn</td></tr>\n",
       "\t<tr><td>Seoul</td><td>Clear </td><td>10000</td><td>27.13</td><td>27.13</td><td>27.13</td><td>1016</td><td>29</td><td>3.29</td><td>285</td><td>2022-09-07 06:00:00</td><td>Autumn</td></tr>\n",
       "\t<tr><td>Seoul</td><td>Clear </td><td>10000</td><td>24.22</td><td>24.22</td><td>24.22</td><td>1017</td><td>46</td><td>2.13</td><td>291</td><td>2022-09-07 09:00:00</td><td>Autumn</td></tr>\n",
       "\t<tr><td>Seoul</td><td>Clear </td><td>10000</td><td>21.56</td><td>21.56</td><td>21.56</td><td>1019</td><td>57</td><td>0.82</td><td>299</td><td>2022-09-07 12:00:00</td><td>Autumn</td></tr>\n",
       "\t<tr><td>Seoul</td><td>Clear </td><td>10000</td><td>20.11</td><td>20.11</td><td>20.11</td><td>1018</td><td>64</td><td>0.47</td><td> 10</td><td>2022-09-07 15:00:00</td><td>Autumn</td></tr>\n",
       "\t<tr><td>Seoul</td><td>Clear </td><td>10000</td><td>18.84</td><td>18.84</td><td>18.84</td><td>1018</td><td>72</td><td>1.06</td><td> 46</td><td>2022-09-07 18:00:00</td><td>Autumn</td></tr>\n",
       "\t<tr><td>Seoul</td><td>Clear </td><td>10000</td><td>17.67</td><td>17.67</td><td>17.67</td><td>1019</td><td>76</td><td>1.05</td><td> 71</td><td>2022-09-07 21:00:00</td><td>Autumn</td></tr>\n",
       "\t<tr><td>Seoul</td><td>Clear </td><td>10000</td><td>21.28</td><td>21.28</td><td>21.28</td><td>1019</td><td>63</td><td>1.26</td><td> 79</td><td>2022-09-08 00:00:00</td><td>Autumn</td></tr>\n",
       "\t<tr><td>Seoul</td><td>Clear </td><td>10000</td><td>26.54</td><td>26.54</td><td>26.54</td><td>1018</td><td>44</td><td>0.27</td><td> 15</td><td>2022-09-08 03:00:00</td><td>Autumn</td></tr>\n",
       "\t<tr><td>Seoul</td><td>Clear </td><td>10000</td><td>28.47</td><td>28.47</td><td>28.47</td><td>1017</td><td>37</td><td>0.97</td><td>307</td><td>2022-09-08 06:00:00</td><td>Autumn</td></tr>\n",
       "\t<tr><td>Seoul</td><td>Clear </td><td>10000</td><td>26.56</td><td>26.56</td><td>26.56</td><td>1017</td><td>49</td><td>1.28</td><td>287</td><td>2022-09-08 09:00:00</td><td>Autumn</td></tr>\n",
       "\t<tr><td>Seoul</td><td>Clear </td><td>10000</td><td>23.12</td><td>23.12</td><td>23.12</td><td>1018</td><td>66</td><td>0.61</td><td>324</td><td>2022-09-08 12:00:00</td><td>Autumn</td></tr>\n",
       "\t<tr><td>Seoul</td><td>Clouds</td><td>10000</td><td>21.79</td><td>21.79</td><td>21.79</td><td>1018</td><td>71</td><td>0.80</td><td> 48</td><td>2022-09-08 15:00:00</td><td>Autumn</td></tr>\n",
       "\t<tr><td>Seoul</td><td>Clouds</td><td>10000</td><td>20.53</td><td>20.53</td><td>20.53</td><td>1017</td><td>74</td><td>1.19</td><td> 56</td><td>2022-09-08 18:00:00</td><td>Autumn</td></tr>\n",
       "\t<tr><td>Seoul</td><td>Clouds</td><td>10000</td><td>19.35</td><td>19.35</td><td>19.35</td><td>1018</td><td>76</td><td>1.20</td><td> 81</td><td>2022-09-08 21:00:00</td><td>Autumn</td></tr>\n",
       "\t<tr><td>Seoul</td><td>Clouds</td><td>10000</td><td>23.01</td><td>23.01</td><td>23.01</td><td>1018</td><td>63</td><td>1.26</td><td> 77</td><td>2022-09-09 00:00:00</td><td>Autumn</td></tr>\n",
       "\t<tr><td>Seoul</td><td>Clouds</td><td>10000</td><td>28.14</td><td>28.14</td><td>28.14</td><td>1017</td><td>42</td><td>1.34</td><td> 79</td><td>2022-09-09 03:00:00</td><td>Autumn</td></tr>\n",
       "\t<tr><td>Seoul</td><td>Clouds</td><td>10000</td><td>29.71</td><td>29.71</td><td>29.71</td><td>1016</td><td>29</td><td>2.64</td><td> 94</td><td>2022-09-09 06:00:00</td><td>Autumn</td></tr>\n",
       "\t<tr><td>Seoul</td><td>Clouds</td><td>10000</td><td>27.43</td><td>27.43</td><td>27.43</td><td>1016</td><td>42</td><td>0.69</td><td>177</td><td>2022-09-09 09:00:00</td><td>Autumn</td></tr>\n",
       "\t<tr><td>Seoul</td><td>Clouds</td><td>10000</td><td>23.96</td><td>23.96</td><td>23.96</td><td>1018</td><td>55</td><td>0.58</td><td> 63</td><td>2022-09-09 12:00:00</td><td>Autumn</td></tr>\n",
       "\t<tr><td>Seoul</td><td>Clouds</td><td>10000</td><td>21.82</td><td>21.82</td><td>21.82</td><td>1018</td><td>57</td><td>1.61</td><td> 80</td><td>2022-09-09 15:00:00</td><td>Autumn</td></tr>\n",
       "\t<tr><td>Seoul</td><td>Clouds</td><td>10000</td><td>20.07</td><td>20.07</td><td>20.07</td><td>1018</td><td>60</td><td>1.53</td><td> 78</td><td>2022-09-09 18:00:00</td><td>Autumn</td></tr>\n",
       "\t<tr><td>Seoul</td><td>Clouds</td><td>10000</td><td>19.17</td><td>19.17</td><td>19.17</td><td>1018</td><td>60</td><td>1.64</td><td> 69</td><td>2022-09-09 21:00:00</td><td>Autumn</td></tr>\n",
       "\t<tr><td>Seoul</td><td>Clouds</td><td>10000</td><td>21.64</td><td>21.64</td><td>21.64</td><td>1018</td><td>47</td><td>1.78</td><td> 71</td><td>2022-09-10 00:00:00</td><td>Autumn</td></tr>\n",
       "\t<tr><td>Seoul</td><td>Clouds</td><td>10000</td><td>26.17</td><td>26.17</td><td>26.17</td><td>1018</td><td>35</td><td>1.97</td><td> 97</td><td>2022-09-10 03:00:00</td><td>Autumn</td></tr>\n",
       "\t<tr><td>Seoul</td><td>Clouds</td><td>10000</td><td>27.93</td><td>27.93</td><td>27.93</td><td>1016</td><td>35</td><td>2.60</td><td>104</td><td>2022-09-10 06:00:00</td><td>Autumn</td></tr>\n",
       "\t<tr><td>Seoul</td><td>Clouds</td><td>10000</td><td>26.12</td><td>26.12</td><td>26.12</td><td>1016</td><td>48</td><td>0.58</td><td>123</td><td>2022-09-10 09:00:00</td><td>Autumn</td></tr>\n",
       "\t<tr><td>Seoul</td><td>Clouds</td><td>10000</td><td>23.98</td><td>23.98</td><td>23.98</td><td>1016</td><td>54</td><td>1.11</td><td> 76</td><td>2022-09-10 12:00:00</td><td>Autumn</td></tr>\n",
       "\t<tr><td>⋮</td><td>⋮</td><td>⋮</td><td>⋮</td><td>⋮</td><td>⋮</td><td>⋮</td><td>⋮</td><td>⋮</td><td>⋮</td><td>⋮</td><td>⋮</td></tr>\n",
       "\t<tr><td>Suzhou</td><td>Clouds</td><td>10000</td><td>29.60</td><td>29.60</td><td>29.60</td><td>1018</td><td>48</td><td>2.38</td><td>114</td><td>2022-09-08 03:00:00</td><td>Autumn</td></tr>\n",
       "\t<tr><td>Suzhou</td><td>Clouds</td><td>10000</td><td>30.80</td><td>30.80</td><td>30.80</td><td>1016</td><td>46</td><td>0.34</td><td> 91</td><td>2022-09-08 06:00:00</td><td>Autumn</td></tr>\n",
       "\t<tr><td>Suzhou</td><td>Clouds</td><td>10000</td><td>28.40</td><td>28.40</td><td>28.40</td><td>1015</td><td>58</td><td>3.75</td><td> 49</td><td>2022-09-08 09:00:00</td><td>Autumn</td></tr>\n",
       "\t<tr><td>Suzhou</td><td>Clouds</td><td>10000</td><td>24.73</td><td>24.73</td><td>24.73</td><td>1017</td><td>74</td><td>4.24</td><td> 81</td><td>2022-09-08 12:00:00</td><td>Autumn</td></tr>\n",
       "\t<tr><td>Suzhou</td><td>Clouds</td><td>10000</td><td>23.09</td><td>23.09</td><td>23.09</td><td>1017</td><td>77</td><td>2.73</td><td> 79</td><td>2022-09-08 15:00:00</td><td>Autumn</td></tr>\n",
       "\t<tr><td>Suzhou</td><td>Clouds</td><td>10000</td><td>22.40</td><td>22.40</td><td>22.40</td><td>1017</td><td>66</td><td>2.23</td><td> 67</td><td>2022-09-08 18:00:00</td><td>Autumn</td></tr>\n",
       "\t<tr><td>Suzhou</td><td>Clouds</td><td>10000</td><td>21.57</td><td>21.57</td><td>21.57</td><td>1017</td><td>66</td><td>2.01</td><td> 61</td><td>2022-09-08 21:00:00</td><td>Autumn</td></tr>\n",
       "\t<tr><td>Suzhou</td><td>Clouds</td><td>10000</td><td>22.71</td><td>22.71</td><td>22.71</td><td>1017</td><td>68</td><td>2.13</td><td> 59</td><td>2022-09-09 00:00:00</td><td>Autumn</td></tr>\n",
       "\t<tr><td>Suzhou</td><td>Clouds</td><td>10000</td><td>27.32</td><td>27.32</td><td>27.32</td><td>1017</td><td>45</td><td>2.64</td><td> 55</td><td>2022-09-09 03:00:00</td><td>Autumn</td></tr>\n",
       "\t<tr><td>Suzhou</td><td>Clouds</td><td>10000</td><td>29.32</td><td>29.32</td><td>29.32</td><td>1015</td><td>37</td><td>3.31</td><td> 49</td><td>2022-09-09 06:00:00</td><td>Autumn</td></tr>\n",
       "\t<tr><td>Suzhou</td><td>Clouds</td><td>10000</td><td>26.50</td><td>26.50</td><td>26.50</td><td>1015</td><td>51</td><td>4.00</td><td> 46</td><td>2022-09-09 09:00:00</td><td>Autumn</td></tr>\n",
       "\t<tr><td>Suzhou</td><td>Clouds</td><td>10000</td><td>22.17</td><td>22.17</td><td>22.17</td><td>1016</td><td>66</td><td>3.27</td><td> 59</td><td>2022-09-09 12:00:00</td><td>Autumn</td></tr>\n",
       "\t<tr><td>Suzhou</td><td>Clouds</td><td>10000</td><td>20.48</td><td>20.48</td><td>20.48</td><td>1016</td><td>76</td><td>2.25</td><td> 73</td><td>2022-09-09 15:00:00</td><td>Autumn</td></tr>\n",
       "\t<tr><td>Suzhou</td><td>Clouds</td><td>10000</td><td>19.58</td><td>19.58</td><td>19.58</td><td>1015</td><td>81</td><td>1.73</td><td> 55</td><td>2022-09-09 18:00:00</td><td>Autumn</td></tr>\n",
       "\t<tr><td>Suzhou</td><td>Clouds</td><td>10000</td><td>18.89</td><td>18.89</td><td>18.89</td><td>1014</td><td>85</td><td>1.68</td><td> 49</td><td>2022-09-09 21:00:00</td><td>Autumn</td></tr>\n",
       "\t<tr><td>Suzhou</td><td>Clouds</td><td>10000</td><td>22.68</td><td>22.68</td><td>22.68</td><td>1015</td><td>72</td><td>2.42</td><td> 65</td><td>2022-09-10 00:00:00</td><td>Autumn</td></tr>\n",
       "\t<tr><td>Suzhou</td><td>Clouds</td><td>10000</td><td>27.63</td><td>27.63</td><td>27.63</td><td>1015</td><td>50</td><td>1.89</td><td> 82</td><td>2022-09-10 03:00:00</td><td>Autumn</td></tr>\n",
       "\t<tr><td>Suzhou</td><td>Clouds</td><td>10000</td><td>29.59</td><td>29.59</td><td>29.59</td><td>1012</td><td>44</td><td>2.29</td><td> 12</td><td>2022-09-10 06:00:00</td><td>Autumn</td></tr>\n",
       "\t<tr><td>Suzhou</td><td>Clouds</td><td>10000</td><td>27.60</td><td>27.60</td><td>27.60</td><td>1012</td><td>52</td><td>3.99</td><td> 45</td><td>2022-09-10 09:00:00</td><td>Autumn</td></tr>\n",
       "\t<tr><td>Suzhou</td><td>Clouds</td><td>10000</td><td>23.26</td><td>23.26</td><td>23.26</td><td>1014</td><td>76</td><td>3.26</td><td> 74</td><td>2022-09-10 12:00:00</td><td>Autumn</td></tr>\n",
       "\t<tr><td>Suzhou</td><td>Clouds</td><td>10000</td><td>21.52</td><td>21.52</td><td>21.52</td><td>1013</td><td>85</td><td>2.38</td><td> 55</td><td>2022-09-10 15:00:00</td><td>Autumn</td></tr>\n",
       "\t<tr><td>Suzhou</td><td>Clouds</td><td>10000</td><td>20.86</td><td>20.86</td><td>20.86</td><td>1012</td><td>92</td><td>1.89</td><td> 46</td><td>2022-09-10 18:00:00</td><td>Autumn</td></tr>\n",
       "\t<tr><td>Suzhou</td><td>Clouds</td><td>10000</td><td>20.25</td><td>20.25</td><td>20.25</td><td>1012</td><td>95</td><td>1.83</td><td> 26</td><td>2022-09-10 21:00:00</td><td>Autumn</td></tr>\n",
       "\t<tr><td>Suzhou</td><td>Clouds</td><td>10000</td><td>23.66</td><td>23.66</td><td>23.66</td><td>1013</td><td>78</td><td>2.77</td><td> 34</td><td>2022-09-11 00:00:00</td><td>Autumn</td></tr>\n",
       "\t<tr><td>Suzhou</td><td>Clouds</td><td>10000</td><td>28.57</td><td>28.57</td><td>28.57</td><td>1012</td><td>51</td><td>2.59</td><td> 30</td><td>2022-09-11 03:00:00</td><td>Autumn</td></tr>\n",
       "\t<tr><td>Suzhou</td><td>Clouds</td><td>10000</td><td>30.16</td><td>30.16</td><td>30.16</td><td>1010</td><td>46</td><td>3.51</td><td> 11</td><td>2022-09-11 06:00:00</td><td>Autumn</td></tr>\n",
       "\t<tr><td>Suzhou</td><td>Clouds</td><td>10000</td><td>27.71</td><td>27.71</td><td>27.71</td><td>1010</td><td>60</td><td>5.01</td><td> 27</td><td>2022-09-11 09:00:00</td><td>Autumn</td></tr>\n",
       "\t<tr><td>Suzhou</td><td>Clouds</td><td>10000</td><td>23.53</td><td>23.53</td><td>23.53</td><td>1011</td><td>84</td><td>3.33</td><td> 35</td><td>2022-09-11 12:00:00</td><td>Autumn</td></tr>\n",
       "\t<tr><td>Suzhou</td><td>Clouds</td><td>10000</td><td>22.51</td><td>22.51</td><td>22.51</td><td>1011</td><td>94</td><td>2.84</td><td> 28</td><td>2022-09-11 15:00:00</td><td>Autumn</td></tr>\n",
       "\t<tr><td>Suzhou</td><td>Clouds</td><td>10000</td><td>22.38</td><td>22.38</td><td>22.38</td><td>1010</td><td>94</td><td>2.48</td><td> 15</td><td>2022-09-11 18:00:00</td><td>Autumn</td></tr>\n",
       "</tbody>\n",
       "</table>\n"
      ],
      "text/latex": [
       "A data.frame: 160 × 12\n",
       "\\begin{tabular}{llllllllllll}\n",
       " city & weather & visibility & temp & temp\\_min & temp\\_max & pressure & humidity & wind\\_speed & wind\\_deg & forecast\\_datetime & season\\\\\n",
       " <fct> & <fct> & <int> & <dbl> & <dbl> & <dbl> & <int> & <int> & <dbl> & <int> & <fct> & <fct>\\\\\n",
       "\\hline\n",
       "\t Seoul & Clouds & 10000 & 16.16 & 16.16 & 17.66 & 1015 & 97 & 0.66 & 103 & 2022-09-06 21:00:00 & Autumn\\\\\n",
       "\t Seoul & Clouds & 10000 & 18.04 & 18.04 & 21.79 & 1016 & 83 & 0.34 & 116 & 2022-09-07 00:00:00 & Autumn\\\\\n",
       "\t Seoul & Clouds & 10000 & 22.80 & 22.80 & 26.12 & 1016 & 54 & 1.37 & 278 & 2022-09-07 03:00:00 & Autumn\\\\\n",
       "\t Seoul & Clear  & 10000 & 27.13 & 27.13 & 27.13 & 1016 & 29 & 3.29 & 285 & 2022-09-07 06:00:00 & Autumn\\\\\n",
       "\t Seoul & Clear  & 10000 & 24.22 & 24.22 & 24.22 & 1017 & 46 & 2.13 & 291 & 2022-09-07 09:00:00 & Autumn\\\\\n",
       "\t Seoul & Clear  & 10000 & 21.56 & 21.56 & 21.56 & 1019 & 57 & 0.82 & 299 & 2022-09-07 12:00:00 & Autumn\\\\\n",
       "\t Seoul & Clear  & 10000 & 20.11 & 20.11 & 20.11 & 1018 & 64 & 0.47 &  10 & 2022-09-07 15:00:00 & Autumn\\\\\n",
       "\t Seoul & Clear  & 10000 & 18.84 & 18.84 & 18.84 & 1018 & 72 & 1.06 &  46 & 2022-09-07 18:00:00 & Autumn\\\\\n",
       "\t Seoul & Clear  & 10000 & 17.67 & 17.67 & 17.67 & 1019 & 76 & 1.05 &  71 & 2022-09-07 21:00:00 & Autumn\\\\\n",
       "\t Seoul & Clear  & 10000 & 21.28 & 21.28 & 21.28 & 1019 & 63 & 1.26 &  79 & 2022-09-08 00:00:00 & Autumn\\\\\n",
       "\t Seoul & Clear  & 10000 & 26.54 & 26.54 & 26.54 & 1018 & 44 & 0.27 &  15 & 2022-09-08 03:00:00 & Autumn\\\\\n",
       "\t Seoul & Clear  & 10000 & 28.47 & 28.47 & 28.47 & 1017 & 37 & 0.97 & 307 & 2022-09-08 06:00:00 & Autumn\\\\\n",
       "\t Seoul & Clear  & 10000 & 26.56 & 26.56 & 26.56 & 1017 & 49 & 1.28 & 287 & 2022-09-08 09:00:00 & Autumn\\\\\n",
       "\t Seoul & Clear  & 10000 & 23.12 & 23.12 & 23.12 & 1018 & 66 & 0.61 & 324 & 2022-09-08 12:00:00 & Autumn\\\\\n",
       "\t Seoul & Clouds & 10000 & 21.79 & 21.79 & 21.79 & 1018 & 71 & 0.80 &  48 & 2022-09-08 15:00:00 & Autumn\\\\\n",
       "\t Seoul & Clouds & 10000 & 20.53 & 20.53 & 20.53 & 1017 & 74 & 1.19 &  56 & 2022-09-08 18:00:00 & Autumn\\\\\n",
       "\t Seoul & Clouds & 10000 & 19.35 & 19.35 & 19.35 & 1018 & 76 & 1.20 &  81 & 2022-09-08 21:00:00 & Autumn\\\\\n",
       "\t Seoul & Clouds & 10000 & 23.01 & 23.01 & 23.01 & 1018 & 63 & 1.26 &  77 & 2022-09-09 00:00:00 & Autumn\\\\\n",
       "\t Seoul & Clouds & 10000 & 28.14 & 28.14 & 28.14 & 1017 & 42 & 1.34 &  79 & 2022-09-09 03:00:00 & Autumn\\\\\n",
       "\t Seoul & Clouds & 10000 & 29.71 & 29.71 & 29.71 & 1016 & 29 & 2.64 &  94 & 2022-09-09 06:00:00 & Autumn\\\\\n",
       "\t Seoul & Clouds & 10000 & 27.43 & 27.43 & 27.43 & 1016 & 42 & 0.69 & 177 & 2022-09-09 09:00:00 & Autumn\\\\\n",
       "\t Seoul & Clouds & 10000 & 23.96 & 23.96 & 23.96 & 1018 & 55 & 0.58 &  63 & 2022-09-09 12:00:00 & Autumn\\\\\n",
       "\t Seoul & Clouds & 10000 & 21.82 & 21.82 & 21.82 & 1018 & 57 & 1.61 &  80 & 2022-09-09 15:00:00 & Autumn\\\\\n",
       "\t Seoul & Clouds & 10000 & 20.07 & 20.07 & 20.07 & 1018 & 60 & 1.53 &  78 & 2022-09-09 18:00:00 & Autumn\\\\\n",
       "\t Seoul & Clouds & 10000 & 19.17 & 19.17 & 19.17 & 1018 & 60 & 1.64 &  69 & 2022-09-09 21:00:00 & Autumn\\\\\n",
       "\t Seoul & Clouds & 10000 & 21.64 & 21.64 & 21.64 & 1018 & 47 & 1.78 &  71 & 2022-09-10 00:00:00 & Autumn\\\\\n",
       "\t Seoul & Clouds & 10000 & 26.17 & 26.17 & 26.17 & 1018 & 35 & 1.97 &  97 & 2022-09-10 03:00:00 & Autumn\\\\\n",
       "\t Seoul & Clouds & 10000 & 27.93 & 27.93 & 27.93 & 1016 & 35 & 2.60 & 104 & 2022-09-10 06:00:00 & Autumn\\\\\n",
       "\t Seoul & Clouds & 10000 & 26.12 & 26.12 & 26.12 & 1016 & 48 & 0.58 & 123 & 2022-09-10 09:00:00 & Autumn\\\\\n",
       "\t Seoul & Clouds & 10000 & 23.98 & 23.98 & 23.98 & 1016 & 54 & 1.11 &  76 & 2022-09-10 12:00:00 & Autumn\\\\\n",
       "\t ⋮ & ⋮ & ⋮ & ⋮ & ⋮ & ⋮ & ⋮ & ⋮ & ⋮ & ⋮ & ⋮ & ⋮\\\\\n",
       "\t Suzhou & Clouds & 10000 & 29.60 & 29.60 & 29.60 & 1018 & 48 & 2.38 & 114 & 2022-09-08 03:00:00 & Autumn\\\\\n",
       "\t Suzhou & Clouds & 10000 & 30.80 & 30.80 & 30.80 & 1016 & 46 & 0.34 &  91 & 2022-09-08 06:00:00 & Autumn\\\\\n",
       "\t Suzhou & Clouds & 10000 & 28.40 & 28.40 & 28.40 & 1015 & 58 & 3.75 &  49 & 2022-09-08 09:00:00 & Autumn\\\\\n",
       "\t Suzhou & Clouds & 10000 & 24.73 & 24.73 & 24.73 & 1017 & 74 & 4.24 &  81 & 2022-09-08 12:00:00 & Autumn\\\\\n",
       "\t Suzhou & Clouds & 10000 & 23.09 & 23.09 & 23.09 & 1017 & 77 & 2.73 &  79 & 2022-09-08 15:00:00 & Autumn\\\\\n",
       "\t Suzhou & Clouds & 10000 & 22.40 & 22.40 & 22.40 & 1017 & 66 & 2.23 &  67 & 2022-09-08 18:00:00 & Autumn\\\\\n",
       "\t Suzhou & Clouds & 10000 & 21.57 & 21.57 & 21.57 & 1017 & 66 & 2.01 &  61 & 2022-09-08 21:00:00 & Autumn\\\\\n",
       "\t Suzhou & Clouds & 10000 & 22.71 & 22.71 & 22.71 & 1017 & 68 & 2.13 &  59 & 2022-09-09 00:00:00 & Autumn\\\\\n",
       "\t Suzhou & Clouds & 10000 & 27.32 & 27.32 & 27.32 & 1017 & 45 & 2.64 &  55 & 2022-09-09 03:00:00 & Autumn\\\\\n",
       "\t Suzhou & Clouds & 10000 & 29.32 & 29.32 & 29.32 & 1015 & 37 & 3.31 &  49 & 2022-09-09 06:00:00 & Autumn\\\\\n",
       "\t Suzhou & Clouds & 10000 & 26.50 & 26.50 & 26.50 & 1015 & 51 & 4.00 &  46 & 2022-09-09 09:00:00 & Autumn\\\\\n",
       "\t Suzhou & Clouds & 10000 & 22.17 & 22.17 & 22.17 & 1016 & 66 & 3.27 &  59 & 2022-09-09 12:00:00 & Autumn\\\\\n",
       "\t Suzhou & Clouds & 10000 & 20.48 & 20.48 & 20.48 & 1016 & 76 & 2.25 &  73 & 2022-09-09 15:00:00 & Autumn\\\\\n",
       "\t Suzhou & Clouds & 10000 & 19.58 & 19.58 & 19.58 & 1015 & 81 & 1.73 &  55 & 2022-09-09 18:00:00 & Autumn\\\\\n",
       "\t Suzhou & Clouds & 10000 & 18.89 & 18.89 & 18.89 & 1014 & 85 & 1.68 &  49 & 2022-09-09 21:00:00 & Autumn\\\\\n",
       "\t Suzhou & Clouds & 10000 & 22.68 & 22.68 & 22.68 & 1015 & 72 & 2.42 &  65 & 2022-09-10 00:00:00 & Autumn\\\\\n",
       "\t Suzhou & Clouds & 10000 & 27.63 & 27.63 & 27.63 & 1015 & 50 & 1.89 &  82 & 2022-09-10 03:00:00 & Autumn\\\\\n",
       "\t Suzhou & Clouds & 10000 & 29.59 & 29.59 & 29.59 & 1012 & 44 & 2.29 &  12 & 2022-09-10 06:00:00 & Autumn\\\\\n",
       "\t Suzhou & Clouds & 10000 & 27.60 & 27.60 & 27.60 & 1012 & 52 & 3.99 &  45 & 2022-09-10 09:00:00 & Autumn\\\\\n",
       "\t Suzhou & Clouds & 10000 & 23.26 & 23.26 & 23.26 & 1014 & 76 & 3.26 &  74 & 2022-09-10 12:00:00 & Autumn\\\\\n",
       "\t Suzhou & Clouds & 10000 & 21.52 & 21.52 & 21.52 & 1013 & 85 & 2.38 &  55 & 2022-09-10 15:00:00 & Autumn\\\\\n",
       "\t Suzhou & Clouds & 10000 & 20.86 & 20.86 & 20.86 & 1012 & 92 & 1.89 &  46 & 2022-09-10 18:00:00 & Autumn\\\\\n",
       "\t Suzhou & Clouds & 10000 & 20.25 & 20.25 & 20.25 & 1012 & 95 & 1.83 &  26 & 2022-09-10 21:00:00 & Autumn\\\\\n",
       "\t Suzhou & Clouds & 10000 & 23.66 & 23.66 & 23.66 & 1013 & 78 & 2.77 &  34 & 2022-09-11 00:00:00 & Autumn\\\\\n",
       "\t Suzhou & Clouds & 10000 & 28.57 & 28.57 & 28.57 & 1012 & 51 & 2.59 &  30 & 2022-09-11 03:00:00 & Autumn\\\\\n",
       "\t Suzhou & Clouds & 10000 & 30.16 & 30.16 & 30.16 & 1010 & 46 & 3.51 &  11 & 2022-09-11 06:00:00 & Autumn\\\\\n",
       "\t Suzhou & Clouds & 10000 & 27.71 & 27.71 & 27.71 & 1010 & 60 & 5.01 &  27 & 2022-09-11 09:00:00 & Autumn\\\\\n",
       "\t Suzhou & Clouds & 10000 & 23.53 & 23.53 & 23.53 & 1011 & 84 & 3.33 &  35 & 2022-09-11 12:00:00 & Autumn\\\\\n",
       "\t Suzhou & Clouds & 10000 & 22.51 & 22.51 & 22.51 & 1011 & 94 & 2.84 &  28 & 2022-09-11 15:00:00 & Autumn\\\\\n",
       "\t Suzhou & Clouds & 10000 & 22.38 & 22.38 & 22.38 & 1010 & 94 & 2.48 &  15 & 2022-09-11 18:00:00 & Autumn\\\\\n",
       "\\end{tabular}\n"
      ],
      "text/markdown": [
       "\n",
       "A data.frame: 160 × 12\n",
       "\n",
       "| city &lt;fct&gt; | weather &lt;fct&gt; | visibility &lt;int&gt; | temp &lt;dbl&gt; | temp_min &lt;dbl&gt; | temp_max &lt;dbl&gt; | pressure &lt;int&gt; | humidity &lt;int&gt; | wind_speed &lt;dbl&gt; | wind_deg &lt;int&gt; | forecast_datetime &lt;fct&gt; | season &lt;fct&gt; |\n",
       "|---|---|---|---|---|---|---|---|---|---|---|---|\n",
       "| Seoul | Clouds | 10000 | 16.16 | 16.16 | 17.66 | 1015 | 97 | 0.66 | 103 | 2022-09-06 21:00:00 | Autumn |\n",
       "| Seoul | Clouds | 10000 | 18.04 | 18.04 | 21.79 | 1016 | 83 | 0.34 | 116 | 2022-09-07 00:00:00 | Autumn |\n",
       "| Seoul | Clouds | 10000 | 22.80 | 22.80 | 26.12 | 1016 | 54 | 1.37 | 278 | 2022-09-07 03:00:00 | Autumn |\n",
       "| Seoul | Clear  | 10000 | 27.13 | 27.13 | 27.13 | 1016 | 29 | 3.29 | 285 | 2022-09-07 06:00:00 | Autumn |\n",
       "| Seoul | Clear  | 10000 | 24.22 | 24.22 | 24.22 | 1017 | 46 | 2.13 | 291 | 2022-09-07 09:00:00 | Autumn |\n",
       "| Seoul | Clear  | 10000 | 21.56 | 21.56 | 21.56 | 1019 | 57 | 0.82 | 299 | 2022-09-07 12:00:00 | Autumn |\n",
       "| Seoul | Clear  | 10000 | 20.11 | 20.11 | 20.11 | 1018 | 64 | 0.47 |  10 | 2022-09-07 15:00:00 | Autumn |\n",
       "| Seoul | Clear  | 10000 | 18.84 | 18.84 | 18.84 | 1018 | 72 | 1.06 |  46 | 2022-09-07 18:00:00 | Autumn |\n",
       "| Seoul | Clear  | 10000 | 17.67 | 17.67 | 17.67 | 1019 | 76 | 1.05 |  71 | 2022-09-07 21:00:00 | Autumn |\n",
       "| Seoul | Clear  | 10000 | 21.28 | 21.28 | 21.28 | 1019 | 63 | 1.26 |  79 | 2022-09-08 00:00:00 | Autumn |\n",
       "| Seoul | Clear  | 10000 | 26.54 | 26.54 | 26.54 | 1018 | 44 | 0.27 |  15 | 2022-09-08 03:00:00 | Autumn |\n",
       "| Seoul | Clear  | 10000 | 28.47 | 28.47 | 28.47 | 1017 | 37 | 0.97 | 307 | 2022-09-08 06:00:00 | Autumn |\n",
       "| Seoul | Clear  | 10000 | 26.56 | 26.56 | 26.56 | 1017 | 49 | 1.28 | 287 | 2022-09-08 09:00:00 | Autumn |\n",
       "| Seoul | Clear  | 10000 | 23.12 | 23.12 | 23.12 | 1018 | 66 | 0.61 | 324 | 2022-09-08 12:00:00 | Autumn |\n",
       "| Seoul | Clouds | 10000 | 21.79 | 21.79 | 21.79 | 1018 | 71 | 0.80 |  48 | 2022-09-08 15:00:00 | Autumn |\n",
       "| Seoul | Clouds | 10000 | 20.53 | 20.53 | 20.53 | 1017 | 74 | 1.19 |  56 | 2022-09-08 18:00:00 | Autumn |\n",
       "| Seoul | Clouds | 10000 | 19.35 | 19.35 | 19.35 | 1018 | 76 | 1.20 |  81 | 2022-09-08 21:00:00 | Autumn |\n",
       "| Seoul | Clouds | 10000 | 23.01 | 23.01 | 23.01 | 1018 | 63 | 1.26 |  77 | 2022-09-09 00:00:00 | Autumn |\n",
       "| Seoul | Clouds | 10000 | 28.14 | 28.14 | 28.14 | 1017 | 42 | 1.34 |  79 | 2022-09-09 03:00:00 | Autumn |\n",
       "| Seoul | Clouds | 10000 | 29.71 | 29.71 | 29.71 | 1016 | 29 | 2.64 |  94 | 2022-09-09 06:00:00 | Autumn |\n",
       "| Seoul | Clouds | 10000 | 27.43 | 27.43 | 27.43 | 1016 | 42 | 0.69 | 177 | 2022-09-09 09:00:00 | Autumn |\n",
       "| Seoul | Clouds | 10000 | 23.96 | 23.96 | 23.96 | 1018 | 55 | 0.58 |  63 | 2022-09-09 12:00:00 | Autumn |\n",
       "| Seoul | Clouds | 10000 | 21.82 | 21.82 | 21.82 | 1018 | 57 | 1.61 |  80 | 2022-09-09 15:00:00 | Autumn |\n",
       "| Seoul | Clouds | 10000 | 20.07 | 20.07 | 20.07 | 1018 | 60 | 1.53 |  78 | 2022-09-09 18:00:00 | Autumn |\n",
       "| Seoul | Clouds | 10000 | 19.17 | 19.17 | 19.17 | 1018 | 60 | 1.64 |  69 | 2022-09-09 21:00:00 | Autumn |\n",
       "| Seoul | Clouds | 10000 | 21.64 | 21.64 | 21.64 | 1018 | 47 | 1.78 |  71 | 2022-09-10 00:00:00 | Autumn |\n",
       "| Seoul | Clouds | 10000 | 26.17 | 26.17 | 26.17 | 1018 | 35 | 1.97 |  97 | 2022-09-10 03:00:00 | Autumn |\n",
       "| Seoul | Clouds | 10000 | 27.93 | 27.93 | 27.93 | 1016 | 35 | 2.60 | 104 | 2022-09-10 06:00:00 | Autumn |\n",
       "| Seoul | Clouds | 10000 | 26.12 | 26.12 | 26.12 | 1016 | 48 | 0.58 | 123 | 2022-09-10 09:00:00 | Autumn |\n",
       "| Seoul | Clouds | 10000 | 23.98 | 23.98 | 23.98 | 1016 | 54 | 1.11 |  76 | 2022-09-10 12:00:00 | Autumn |\n",
       "| ⋮ | ⋮ | ⋮ | ⋮ | ⋮ | ⋮ | ⋮ | ⋮ | ⋮ | ⋮ | ⋮ | ⋮ |\n",
       "| Suzhou | Clouds | 10000 | 29.60 | 29.60 | 29.60 | 1018 | 48 | 2.38 | 114 | 2022-09-08 03:00:00 | Autumn |\n",
       "| Suzhou | Clouds | 10000 | 30.80 | 30.80 | 30.80 | 1016 | 46 | 0.34 |  91 | 2022-09-08 06:00:00 | Autumn |\n",
       "| Suzhou | Clouds | 10000 | 28.40 | 28.40 | 28.40 | 1015 | 58 | 3.75 |  49 | 2022-09-08 09:00:00 | Autumn |\n",
       "| Suzhou | Clouds | 10000 | 24.73 | 24.73 | 24.73 | 1017 | 74 | 4.24 |  81 | 2022-09-08 12:00:00 | Autumn |\n",
       "| Suzhou | Clouds | 10000 | 23.09 | 23.09 | 23.09 | 1017 | 77 | 2.73 |  79 | 2022-09-08 15:00:00 | Autumn |\n",
       "| Suzhou | Clouds | 10000 | 22.40 | 22.40 | 22.40 | 1017 | 66 | 2.23 |  67 | 2022-09-08 18:00:00 | Autumn |\n",
       "| Suzhou | Clouds | 10000 | 21.57 | 21.57 | 21.57 | 1017 | 66 | 2.01 |  61 | 2022-09-08 21:00:00 | Autumn |\n",
       "| Suzhou | Clouds | 10000 | 22.71 | 22.71 | 22.71 | 1017 | 68 | 2.13 |  59 | 2022-09-09 00:00:00 | Autumn |\n",
       "| Suzhou | Clouds | 10000 | 27.32 | 27.32 | 27.32 | 1017 | 45 | 2.64 |  55 | 2022-09-09 03:00:00 | Autumn |\n",
       "| Suzhou | Clouds | 10000 | 29.32 | 29.32 | 29.32 | 1015 | 37 | 3.31 |  49 | 2022-09-09 06:00:00 | Autumn |\n",
       "| Suzhou | Clouds | 10000 | 26.50 | 26.50 | 26.50 | 1015 | 51 | 4.00 |  46 | 2022-09-09 09:00:00 | Autumn |\n",
       "| Suzhou | Clouds | 10000 | 22.17 | 22.17 | 22.17 | 1016 | 66 | 3.27 |  59 | 2022-09-09 12:00:00 | Autumn |\n",
       "| Suzhou | Clouds | 10000 | 20.48 | 20.48 | 20.48 | 1016 | 76 | 2.25 |  73 | 2022-09-09 15:00:00 | Autumn |\n",
       "| Suzhou | Clouds | 10000 | 19.58 | 19.58 | 19.58 | 1015 | 81 | 1.73 |  55 | 2022-09-09 18:00:00 | Autumn |\n",
       "| Suzhou | Clouds | 10000 | 18.89 | 18.89 | 18.89 | 1014 | 85 | 1.68 |  49 | 2022-09-09 21:00:00 | Autumn |\n",
       "| Suzhou | Clouds | 10000 | 22.68 | 22.68 | 22.68 | 1015 | 72 | 2.42 |  65 | 2022-09-10 00:00:00 | Autumn |\n",
       "| Suzhou | Clouds | 10000 | 27.63 | 27.63 | 27.63 | 1015 | 50 | 1.89 |  82 | 2022-09-10 03:00:00 | Autumn |\n",
       "| Suzhou | Clouds | 10000 | 29.59 | 29.59 | 29.59 | 1012 | 44 | 2.29 |  12 | 2022-09-10 06:00:00 | Autumn |\n",
       "| Suzhou | Clouds | 10000 | 27.60 | 27.60 | 27.60 | 1012 | 52 | 3.99 |  45 | 2022-09-10 09:00:00 | Autumn |\n",
       "| Suzhou | Clouds | 10000 | 23.26 | 23.26 | 23.26 | 1014 | 76 | 3.26 |  74 | 2022-09-10 12:00:00 | Autumn |\n",
       "| Suzhou | Clouds | 10000 | 21.52 | 21.52 | 21.52 | 1013 | 85 | 2.38 |  55 | 2022-09-10 15:00:00 | Autumn |\n",
       "| Suzhou | Clouds | 10000 | 20.86 | 20.86 | 20.86 | 1012 | 92 | 1.89 |  46 | 2022-09-10 18:00:00 | Autumn |\n",
       "| Suzhou | Clouds | 10000 | 20.25 | 20.25 | 20.25 | 1012 | 95 | 1.83 |  26 | 2022-09-10 21:00:00 | Autumn |\n",
       "| Suzhou | Clouds | 10000 | 23.66 | 23.66 | 23.66 | 1013 | 78 | 2.77 |  34 | 2022-09-11 00:00:00 | Autumn |\n",
       "| Suzhou | Clouds | 10000 | 28.57 | 28.57 | 28.57 | 1012 | 51 | 2.59 |  30 | 2022-09-11 03:00:00 | Autumn |\n",
       "| Suzhou | Clouds | 10000 | 30.16 | 30.16 | 30.16 | 1010 | 46 | 3.51 |  11 | 2022-09-11 06:00:00 | Autumn |\n",
       "| Suzhou | Clouds | 10000 | 27.71 | 27.71 | 27.71 | 1010 | 60 | 5.01 |  27 | 2022-09-11 09:00:00 | Autumn |\n",
       "| Suzhou | Clouds | 10000 | 23.53 | 23.53 | 23.53 | 1011 | 84 | 3.33 |  35 | 2022-09-11 12:00:00 | Autumn |\n",
       "| Suzhou | Clouds | 10000 | 22.51 | 22.51 | 22.51 | 1011 | 94 | 2.84 |  28 | 2022-09-11 15:00:00 | Autumn |\n",
       "| Suzhou | Clouds | 10000 | 22.38 | 22.38 | 22.38 | 1010 | 94 | 2.48 |  15 | 2022-09-11 18:00:00 | Autumn |\n",
       "\n"
      ],
      "text/plain": [
       "    city   weather visibility temp  temp_min temp_max pressure humidity\n",
       "1   Seoul  Clouds  10000      16.16 16.16    17.66    1015     97      \n",
       "2   Seoul  Clouds  10000      18.04 18.04    21.79    1016     83      \n",
       "3   Seoul  Clouds  10000      22.80 22.80    26.12    1016     54      \n",
       "4   Seoul  Clear   10000      27.13 27.13    27.13    1016     29      \n",
       "5   Seoul  Clear   10000      24.22 24.22    24.22    1017     46      \n",
       "6   Seoul  Clear   10000      21.56 21.56    21.56    1019     57      \n",
       "7   Seoul  Clear   10000      20.11 20.11    20.11    1018     64      \n",
       "8   Seoul  Clear   10000      18.84 18.84    18.84    1018     72      \n",
       "9   Seoul  Clear   10000      17.67 17.67    17.67    1019     76      \n",
       "10  Seoul  Clear   10000      21.28 21.28    21.28    1019     63      \n",
       "11  Seoul  Clear   10000      26.54 26.54    26.54    1018     44      \n",
       "12  Seoul  Clear   10000      28.47 28.47    28.47    1017     37      \n",
       "13  Seoul  Clear   10000      26.56 26.56    26.56    1017     49      \n",
       "14  Seoul  Clear   10000      23.12 23.12    23.12    1018     66      \n",
       "15  Seoul  Clouds  10000      21.79 21.79    21.79    1018     71      \n",
       "16  Seoul  Clouds  10000      20.53 20.53    20.53    1017     74      \n",
       "17  Seoul  Clouds  10000      19.35 19.35    19.35    1018     76      \n",
       "18  Seoul  Clouds  10000      23.01 23.01    23.01    1018     63      \n",
       "19  Seoul  Clouds  10000      28.14 28.14    28.14    1017     42      \n",
       "20  Seoul  Clouds  10000      29.71 29.71    29.71    1016     29      \n",
       "21  Seoul  Clouds  10000      27.43 27.43    27.43    1016     42      \n",
       "22  Seoul  Clouds  10000      23.96 23.96    23.96    1018     55      \n",
       "23  Seoul  Clouds  10000      21.82 21.82    21.82    1018     57      \n",
       "24  Seoul  Clouds  10000      20.07 20.07    20.07    1018     60      \n",
       "25  Seoul  Clouds  10000      19.17 19.17    19.17    1018     60      \n",
       "26  Seoul  Clouds  10000      21.64 21.64    21.64    1018     47      \n",
       "27  Seoul  Clouds  10000      26.17 26.17    26.17    1018     35      \n",
       "28  Seoul  Clouds  10000      27.93 27.93    27.93    1016     35      \n",
       "29  Seoul  Clouds  10000      26.12 26.12    26.12    1016     48      \n",
       "30  Seoul  Clouds  10000      23.98 23.98    23.98    1016     54      \n",
       "⋮   ⋮      ⋮       ⋮          ⋮     ⋮        ⋮        ⋮        ⋮       \n",
       "131 Suzhou Clouds  10000      29.60 29.60    29.60    1018     48      \n",
       "132 Suzhou Clouds  10000      30.80 30.80    30.80    1016     46      \n",
       "133 Suzhou Clouds  10000      28.40 28.40    28.40    1015     58      \n",
       "134 Suzhou Clouds  10000      24.73 24.73    24.73    1017     74      \n",
       "135 Suzhou Clouds  10000      23.09 23.09    23.09    1017     77      \n",
       "136 Suzhou Clouds  10000      22.40 22.40    22.40    1017     66      \n",
       "137 Suzhou Clouds  10000      21.57 21.57    21.57    1017     66      \n",
       "138 Suzhou Clouds  10000      22.71 22.71    22.71    1017     68      \n",
       "139 Suzhou Clouds  10000      27.32 27.32    27.32    1017     45      \n",
       "140 Suzhou Clouds  10000      29.32 29.32    29.32    1015     37      \n",
       "141 Suzhou Clouds  10000      26.50 26.50    26.50    1015     51      \n",
       "142 Suzhou Clouds  10000      22.17 22.17    22.17    1016     66      \n",
       "143 Suzhou Clouds  10000      20.48 20.48    20.48    1016     76      \n",
       "144 Suzhou Clouds  10000      19.58 19.58    19.58    1015     81      \n",
       "145 Suzhou Clouds  10000      18.89 18.89    18.89    1014     85      \n",
       "146 Suzhou Clouds  10000      22.68 22.68    22.68    1015     72      \n",
       "147 Suzhou Clouds  10000      27.63 27.63    27.63    1015     50      \n",
       "148 Suzhou Clouds  10000      29.59 29.59    29.59    1012     44      \n",
       "149 Suzhou Clouds  10000      27.60 27.60    27.60    1012     52      \n",
       "150 Suzhou Clouds  10000      23.26 23.26    23.26    1014     76      \n",
       "151 Suzhou Clouds  10000      21.52 21.52    21.52    1013     85      \n",
       "152 Suzhou Clouds  10000      20.86 20.86    20.86    1012     92      \n",
       "153 Suzhou Clouds  10000      20.25 20.25    20.25    1012     95      \n",
       "154 Suzhou Clouds  10000      23.66 23.66    23.66    1013     78      \n",
       "155 Suzhou Clouds  10000      28.57 28.57    28.57    1012     51      \n",
       "156 Suzhou Clouds  10000      30.16 30.16    30.16    1010     46      \n",
       "157 Suzhou Clouds  10000      27.71 27.71    27.71    1010     60      \n",
       "158 Suzhou Clouds  10000      23.53 23.53    23.53    1011     84      \n",
       "159 Suzhou Clouds  10000      22.51 22.51    22.51    1011     94      \n",
       "160 Suzhou Clouds  10000      22.38 22.38    22.38    1010     94      \n",
       "    wind_speed wind_deg forecast_datetime   season\n",
       "1   0.66       103      2022-09-06 21:00:00 Autumn\n",
       "2   0.34       116      2022-09-07 00:00:00 Autumn\n",
       "3   1.37       278      2022-09-07 03:00:00 Autumn\n",
       "4   3.29       285      2022-09-07 06:00:00 Autumn\n",
       "5   2.13       291      2022-09-07 09:00:00 Autumn\n",
       "6   0.82       299      2022-09-07 12:00:00 Autumn\n",
       "7   0.47        10      2022-09-07 15:00:00 Autumn\n",
       "8   1.06        46      2022-09-07 18:00:00 Autumn\n",
       "9   1.05        71      2022-09-07 21:00:00 Autumn\n",
       "10  1.26        79      2022-09-08 00:00:00 Autumn\n",
       "11  0.27        15      2022-09-08 03:00:00 Autumn\n",
       "12  0.97       307      2022-09-08 06:00:00 Autumn\n",
       "13  1.28       287      2022-09-08 09:00:00 Autumn\n",
       "14  0.61       324      2022-09-08 12:00:00 Autumn\n",
       "15  0.80        48      2022-09-08 15:00:00 Autumn\n",
       "16  1.19        56      2022-09-08 18:00:00 Autumn\n",
       "17  1.20        81      2022-09-08 21:00:00 Autumn\n",
       "18  1.26        77      2022-09-09 00:00:00 Autumn\n",
       "19  1.34        79      2022-09-09 03:00:00 Autumn\n",
       "20  2.64        94      2022-09-09 06:00:00 Autumn\n",
       "21  0.69       177      2022-09-09 09:00:00 Autumn\n",
       "22  0.58        63      2022-09-09 12:00:00 Autumn\n",
       "23  1.61        80      2022-09-09 15:00:00 Autumn\n",
       "24  1.53        78      2022-09-09 18:00:00 Autumn\n",
       "25  1.64        69      2022-09-09 21:00:00 Autumn\n",
       "26  1.78        71      2022-09-10 00:00:00 Autumn\n",
       "27  1.97        97      2022-09-10 03:00:00 Autumn\n",
       "28  2.60       104      2022-09-10 06:00:00 Autumn\n",
       "29  0.58       123      2022-09-10 09:00:00 Autumn\n",
       "30  1.11        76      2022-09-10 12:00:00 Autumn\n",
       "⋮   ⋮          ⋮        ⋮                   ⋮     \n",
       "131 2.38       114      2022-09-08 03:00:00 Autumn\n",
       "132 0.34        91      2022-09-08 06:00:00 Autumn\n",
       "133 3.75        49      2022-09-08 09:00:00 Autumn\n",
       "134 4.24        81      2022-09-08 12:00:00 Autumn\n",
       "135 2.73        79      2022-09-08 15:00:00 Autumn\n",
       "136 2.23        67      2022-09-08 18:00:00 Autumn\n",
       "137 2.01        61      2022-09-08 21:00:00 Autumn\n",
       "138 2.13        59      2022-09-09 00:00:00 Autumn\n",
       "139 2.64        55      2022-09-09 03:00:00 Autumn\n",
       "140 3.31        49      2022-09-09 06:00:00 Autumn\n",
       "141 4.00        46      2022-09-09 09:00:00 Autumn\n",
       "142 3.27        59      2022-09-09 12:00:00 Autumn\n",
       "143 2.25        73      2022-09-09 15:00:00 Autumn\n",
       "144 1.73        55      2022-09-09 18:00:00 Autumn\n",
       "145 1.68        49      2022-09-09 21:00:00 Autumn\n",
       "146 2.42        65      2022-09-10 00:00:00 Autumn\n",
       "147 1.89        82      2022-09-10 03:00:00 Autumn\n",
       "148 2.29        12      2022-09-10 06:00:00 Autumn\n",
       "149 3.99        45      2022-09-10 09:00:00 Autumn\n",
       "150 3.26        74      2022-09-10 12:00:00 Autumn\n",
       "151 2.38        55      2022-09-10 15:00:00 Autumn\n",
       "152 1.89        46      2022-09-10 18:00:00 Autumn\n",
       "153 1.83        26      2022-09-10 21:00:00 Autumn\n",
       "154 2.77        34      2022-09-11 00:00:00 Autumn\n",
       "155 2.59        30      2022-09-11 03:00:00 Autumn\n",
       "156 3.51        11      2022-09-11 06:00:00 Autumn\n",
       "157 5.01        27      2022-09-11 09:00:00 Autumn\n",
       "158 3.33        35      2022-09-11 12:00:00 Autumn\n",
       "159 2.84        28      2022-09-11 15:00:00 Autumn\n",
       "160 2.48        15      2022-09-11 18:00:00 Autumn"
      ]
     },
     "metadata": {},
     "output_type": "display_data"
    }
   ],
   "source": [
    "cities_weather_df"
   ]
  },
  {
   "cell_type": "code",
   "execution_count": 521,
   "metadata": {},
   "outputs": [],
   "source": [
    "# Write cities_weather_df to `cities_weather_forecast.csv`\n",
    "write.csv(cities_weather_df, \"cities_weather_forecast.csv\", row.names=FALSE)"
   ]
  },
  {
   "cell_type": "markdown",
   "metadata": {},
   "source": [
    "For more details about HTTP requests with `httr`, please refer to the previous HTTP request notebook here:\n",
    "\n",
    "[HTTP request in R](https://cf-courses-data.s3.us.cloud-object-storage.appdomain.cloud/IBMDeveloperSkillsNetwork-RP0101EN-Coursera/v2/M4\\_Working_With_Data/lab2\\_jupyter_http-request.ipynb)\n"
   ]
  },
  {
   "cell_type": "markdown",
   "metadata": {},
   "source": [
    "## TASK: Download datasets as csv files from cloud storage\n"
   ]
  },
  {
   "cell_type": "markdown",
   "metadata": {},
   "source": [
    "The last task of this lab is straightforward: download some aggregated datasets from cloud storage\n"
   ]
  },
  {
   "cell_type": "code",
   "execution_count": 522,
   "metadata": {},
   "outputs": [],
   "source": [
    "# Download several datasets\n",
    "\n",
    "# Download some general city information such as name and locations\n",
    "url <- \"https://cf-courses-data.s3.us.cloud-object-storage.appdomain.cloud/IBMDeveloperSkillsNetwork-RP0321EN-SkillsNetwork/labs/datasets/raw_worldcities.csv\"\n",
    "# download the file\n",
    "download.file(url, destfile = \"raw_worldcities.csv\")\n",
    "\n",
    "# Download a specific hourly Seoul bike sharing demand dataset\n",
    "url <- \"https://cf-courses-data.s3.us.cloud-object-storage.appdomain.cloud/IBMDeveloperSkillsNetwork-RP0321EN-SkillsNetwork/labs/datasets/raw_seoul_bike_sharing.csv\"\n",
    "# download the file\n",
    "download.file(url, destfile = \"raw_seoul_bike_sharing.csv\")"
   ]
  },
  {
   "cell_type": "markdown",
   "metadata": {},
   "source": [
    "## Next Step\n"
   ]
  },
  {
   "cell_type": "markdown",
   "metadata": {},
   "source": [
    "Now you should collect all datasets required for this project, all in csv format. Feel free to explore them preliminarily now. However, they are the raw datasets and have to be processed for further data visualization or data analysis.\n",
    "\n",
    "In the next module, you will improve their quality by performing data wrangling tasks.\n"
   ]
  },
  {
   "cell_type": "markdown",
   "metadata": {},
   "source": [
    "## Authors\n",
    "\n",
    "<a href=\"https://www.linkedin.com/in/yan-luo-96288783/?utm_medium=Exinfluencer&utm_source=Exinfluencer&utm_content=000026UJ&utm_term=10006555&utm_id=NA-SkillsNetwork-Channel-SkillsNetworkCoursesIBMDeveloperSkillsNetworkRP0321ENSkillsNetwork25371262-2022-01-01\" target=\"_blank\">Yan Luo</a>\n"
   ]
  },
  {
   "cell_type": "markdown",
   "metadata": {},
   "source": [
    "### Other Contributors\n"
   ]
  },
  {
   "cell_type": "markdown",
   "metadata": {},
   "source": [
    "## Change Log\n",
    "\n",
    "| Date (YYYY-MM-DD) | Version | Changed By | Change Description      |\n",
    "| ----------------- | ------- | ---------- | ----------------------- |\n",
    "| 2021-04-05        | 0.1     | Yan        | Initial version created |\n",
    "|                   |         |            |                         |\n",
    "|                   |         |            |                         |\n",
    "\n",
    "## <h3 align=\"center\"> © IBM Corporation 2021. All rights reserved. <h3/>\n"
   ]
  }
 ],
 "metadata": {
  "kernelspec": {
   "display_name": "R",
   "language": "R",
   "name": "conda-env-r-r"
  },
  "language_info": {
   "codemirror_mode": "r",
   "file_extension": ".r",
   "mimetype": "text/x-r-source",
   "name": "R",
   "pygments_lexer": "r",
   "version": "3.5.1"
  }
 },
 "nbformat": 4,
 "nbformat_minor": 4
}
