{
 "cells": [
  {
   "cell_type": "markdown",
   "metadata": {},
   "source": [
    "<a href=\"https://cognitiveclass.ai/?utm_medium=Exinfluencer&utm_source=Exinfluencer&utm_content=000026UJ&utm_term=10006555&utm_id=NA-SkillsNetwork-Channel-SkillsNetworkCoursesIBMDeveloperSkillsNetworkRP0321ENSkillsNetwork25371262-2022-01-01\">\n",
    "    <img src=\"https://cf-courses-data.s3.us.cloud-object-storage.appdomain.cloud/IBMDeveloperSkillsNetwork-RP0101EN-Coursera/v2/M1_R_Basics/images/IDSNlogo.png\" width=\"200\" align=\"center\">\n",
    "</a>\n"
   ]
  },
  {
   "cell_type": "markdown",
   "metadata": {},
   "source": [
    "<h1>Predict Hourly Rented Bike Count using Basic Linear Regression Models</h1>\n",
    "\n",
    "Estimated time needed: **90** minutes\n"
   ]
  },
  {
   "cell_type": "markdown",
   "metadata": {},
   "source": [
    "## Lab Overview:\n",
    "\n",
    "Now that you have performed exploratory analysis on the bike sharing demand dataset and obtained some insights on the attributes, it's time to build predictive models to predict the hourly rented bike count using related weather and date information.\n",
    "\n",
    "In this lab, you will be asked to use `tidymodels` to build some baseline linear regression models:\n",
    "\n",
    "*   **TASK: Split data into training and testing datasets**\n",
    "*   **TASK: Build a linear regression model using only the weather variables**\n",
    "*   **TASK: Build a linear regression model using both weather and date variables**\n",
    "*   **TASK: Evaluate the models and identify important variables**\n",
    "\n",
    "Let's start!\n"
   ]
  },
  {
   "cell_type": "markdown",
   "metadata": {},
   "source": [
    "First install and import the necessary libraries\n"
   ]
  },
  {
   "cell_type": "code",
   "execution_count": 10,
   "metadata": {},
   "outputs": [
    {
     "name": "stderr",
     "output_type": "stream",
     "text": [
      "Removing package from ‘/home/jupyterlab/conda/envs/r/lib/R/library’\n",
      "(as ‘lib’ is unspecified)\n",
      "Updating HTML index of packages in '.Library'\n",
      "Making 'packages.html' ... done\n",
      "Removing package from ‘/home/jupyterlab/conda/envs/r/lib/R/library’\n",
      "(as ‘lib’ is unspecified)\n",
      "Updating HTML index of packages in '.Library'\n",
      "Making 'packages.html' ... done\n"
     ]
    }
   ],
   "source": [
    "remove.packages(\"rlang\")\n",
    "remove.packages(\"tidymodels\")"
   ]
  },
  {
   "cell_type": "code",
   "execution_count": 11,
   "metadata": {},
   "outputs": [
    {
     "name": "stderr",
     "output_type": "stream",
     "text": [
      "Updating HTML index of packages in '.Library'\n",
      "Making 'packages.html' ... done\n",
      "Updating HTML index of packages in '.Library'\n",
      "Making 'packages.html' ... done\n"
     ]
    }
   ],
   "source": [
    "# It may take several minutes to install those libraries in Watson Studio\n",
    "install.packages(\"rlang\")\n",
    "install.packages(\"tidymodels\")"
   ]
  },
  {
   "cell_type": "code",
   "execution_count": 1,
   "metadata": {},
   "outputs": [
    {
     "name": "stderr",
     "output_type": "stream",
     "text": [
      "── Attaching packages ────────────────────────────────────── tidymodels 1.0.0 ──\n",
      "✔ broom        1.0.1      ✔ recipes      1.0.1 \n",
      "✔ dials        1.0.0      ✔ rsample      1.1.0 \n",
      "✔ dplyr        1.0.10     ✔ tibble       3.1.8 \n",
      "✔ ggplot2      3.3.6      ✔ tidyr        1.2.1 \n",
      "✔ infer        1.0.3      ✔ tune         1.0.0 \n",
      "✔ modeldata    1.0.1      ✔ workflows    1.0.0 \n",
      "✔ parsnip      1.0.1      ✔ workflowsets 1.0.0 \n",
      "✔ purrr        0.3.4      ✔ yardstick    1.1.0 \n",
      "── Conflicts ───────────────────────────────────────── tidymodels_conflicts() ──\n",
      "✖ purrr::discard() masks scales::discard()\n",
      "✖ dplyr::filter()  masks stats::filter()\n",
      "✖ dplyr::lag()     masks stats::lag()\n",
      "✖ recipes::step()  masks stats::step()\n",
      "• Search for functions across packages at https://www.tidymodels.org/find/\n",
      "── Attaching packages ─────────────────────────────────────── tidyverse 1.3.0 ──\n",
      "✔ readr   1.3.1     ✔ forcats 0.5.0\n",
      "✔ stringr 1.4.0     \n",
      "── Conflicts ────────────────────────────────────────── tidyverse_conflicts() ──\n",
      "✖ readr::col_factor() masks scales::col_factor()\n",
      "✖ purrr::discard()    masks scales::discard()\n",
      "✖ dplyr::filter()     masks stats::filter()\n",
      "✖ stringr::fixed()    masks recipes::fixed()\n",
      "✖ dplyr::lag()        masks stats::lag()\n",
      "✖ readr::spec()       masks yardstick::spec()\n"
     ]
    }
   ],
   "source": [
    "library(\"tidymodels\")\n",
    "library(\"tidyverse\")\n",
    "library(\"stringr\")"
   ]
  },
  {
   "cell_type": "markdown",
   "metadata": {},
   "source": [
    "The `seoul_bike_sharing_converted_normalized.csv` will be our main dataset which has following variables:\n",
    "\n",
    "The response variable:\n",
    "\n",
    "*   `RENTED BIKE COUNT`- Count of bikes rented at each hour\n",
    "\n",
    "Weather predictor variables:\n",
    "\n",
    "*   `TEMPERATURE` - Temperature in Celsius\n",
    "*   `HUMIDITY` - Unit is `%`\n",
    "*   `WIND_SPEED` - Unit is `m/s`\n",
    "*   `VISIBILITY` - Multiplied by 10m\n",
    "*   `DEW_POINT_TEMPERATURE` - The temperature to which the air would have to cool down in order to reach saturation, unit is Celsius\n",
    "*   `SOLAR_RADIATION` - MJ/m2\n",
    "*   `RAINFALL` - mm\n",
    "*   `SNOWFALL` - cm\n",
    "\n",
    "Date/time predictor variables:\n",
    "\n",
    "*   `DATE` - Year-month-day\n",
    "*   `HOUR`- Hour of he day\n",
    "*   `FUNCTIONAL DAY` - NoFunc(Non Functional Hours), Fun(Functional hours)\n",
    "*   `HOLIDAY` - Holiday/No holiday\n",
    "*   `SEASONS` - Winter, Spring, Summer, Autumn\n"
   ]
  },
  {
   "cell_type": "markdown",
   "metadata": {},
   "source": [
    "Let's read the dataset as a dataframe first:\n"
   ]
  },
  {
   "cell_type": "code",
   "execution_count": 15,
   "metadata": {},
   "outputs": [
    {
     "name": "stderr",
     "output_type": "stream",
     "text": [
      "Parsed with column specification:\n",
      "cols(\n",
      "  .default = col_double(),\n",
      "  DATE = col_character(),\n",
      "  FUNCTIONING_DAY = col_character()\n",
      ")\n",
      "See spec(...) for full column specifications.\n"
     ]
    },
    {
     "data": {
      "text/plain": [
       "cols(\n",
       "  DATE = col_character(),\n",
       "  RENTED_BIKE_COUNT = col_double(),\n",
       "  TEMPERATURE = col_double(),\n",
       "  HUMIDITY = col_double(),\n",
       "  WIND_SPEED = col_double(),\n",
       "  VISIBILITY = col_double(),\n",
       "  DEW_POINT_TEMPERATURE = col_double(),\n",
       "  SOLAR_RADIATION = col_double(),\n",
       "  RAINFALL = col_double(),\n",
       "  SNOWFALL = col_double(),\n",
       "  FUNCTIONING_DAY = col_character(),\n",
       "  `0` = col_double(),\n",
       "  `1` = col_double(),\n",
       "  `10` = col_double(),\n",
       "  `11` = col_double(),\n",
       "  `12` = col_double(),\n",
       "  `13` = col_double(),\n",
       "  `14` = col_double(),\n",
       "  `15` = col_double(),\n",
       "  `16` = col_double(),\n",
       "  `17` = col_double(),\n",
       "  `18` = col_double(),\n",
       "  `19` = col_double(),\n",
       "  `2` = col_double(),\n",
       "  `20` = col_double(),\n",
       "  `21` = col_double(),\n",
       "  `22` = col_double(),\n",
       "  `23` = col_double(),\n",
       "  `3` = col_double(),\n",
       "  `4` = col_double(),\n",
       "  `5` = col_double(),\n",
       "  `6` = col_double(),\n",
       "  `7` = col_double(),\n",
       "  `8` = col_double(),\n",
       "  `9` = col_double(),\n",
       "  AUTUMN = col_double(),\n",
       "  SPRING = col_double(),\n",
       "  SUMMER = col_double(),\n",
       "  WINTER = col_double(),\n",
       "  HOLIDAY = col_double(),\n",
       "  NO_HOLIDAY = col_double()\n",
       ")"
      ]
     },
     "metadata": {},
     "output_type": "display_data"
    }
   ],
   "source": [
    "# Dataset URL\n",
    "dataset_url <- \"https://cf-courses-data.s3.us.cloud-object-storage.appdomain.cloud/IBMDeveloperSkillsNetwork-RP0321EN-SkillsNetwork/labs/datasets/seoul_bike_sharing_converted_normalized.csv\"\n",
    "bike_sharing_df <- read_csv(dataset_url)\n",
    "spec(bike_sharing_df)"
   ]
  },
  {
   "cell_type": "markdown",
   "metadata": {},
   "source": [
    "We won't be using the `DATE` column, because 'as is', it basically acts like an data entry index. (However, given more time, we could use the `DATE` colum to create a 'day of week' or 'isWeekend' column, which we might expect has an affect on preferred bike rental times.) We also do not need the `FUNCTIONAL DAY` column because it only has one distinct value remaining (`YES`) after missing value processing.\n"
   ]
  },
  {
   "cell_type": "code",
   "execution_count": 16,
   "metadata": {},
   "outputs": [],
   "source": [
    "bike_sharing_df <- bike_sharing_df %>% \n",
    "                   select(-DATE, -FUNCTIONING_DAY)"
   ]
  },
  {
   "cell_type": "markdown",
   "metadata": {},
   "source": [
    "# TASK: Split training and testing data\n"
   ]
  },
  {
   "cell_type": "markdown",
   "metadata": {},
   "source": [
    "First, we need to split the full dataset into training and testing datasets.\n",
    "\n",
    "The training dataset will be used for fitting regression models, and the testing dataset will be used to evaluate the trained models.\n"
   ]
  },
  {
   "cell_type": "markdown",
   "metadata": {},
   "source": [
    "*TODO:* Use the `initial_split()`, `training()`, and `testing()` functions to generate a training dataset consisting of 75% of the original dataset, and a testing dataset using the remaining 25%.\n"
   ]
  },
  {
   "cell_type": "code",
   "execution_count": 17,
   "metadata": {},
   "outputs": [],
   "source": [
    "# Use the `initial_split()`, `training()`, and `testing()` functions to split the dataset\n",
    "# With seed 1234\n",
    "set.seed(1234)\n",
    "bike_sharing_split<- initial_split(bike_sharing_df, prop=3/4)\n",
    "# prop = 3/4\n",
    "# train_data \n",
    "train_data<-training(bike_sharing_split)\n",
    "# test_data\n",
    "test_data<-testing(bike_sharing_split)"
   ]
  },
  {
   "cell_type": "markdown",
   "metadata": {},
   "source": [
    "# TASK: Build a linear regression model using weather variables only\n"
   ]
  },
  {
   "cell_type": "markdown",
   "metadata": {},
   "source": [
    "As you could imagine, weather conditions may affect people's bike renting decisions. For example, on a cold and rainy day, you may choose alternate transportation such as a bus or taxi.  While on a nice sunny day, you may want to rent a bike for a short-distance travel.\n"
   ]
  },
  {
   "cell_type": "markdown",
   "metadata": {},
   "source": [
    "Thus, can we predict a city's bike-sharing demand based on its local weather information? Let's try to build a regression model to do that.\n"
   ]
  },
  {
   "cell_type": "markdown",
   "metadata": {},
   "source": [
    "*TODO:* Build a linear regression model called `lm_model_weather` using the following variables:\n",
    "\n",
    "*   `TEMPERATURE` - Temperature in Celsius\n",
    "*   `HUMIDITY` - Unit is `%`\n",
    "*   `WIND_SPEED` - Unit is `m/s`\n",
    "*   `VISIBILITY` - Multiplied by 10m\n",
    "*   `DEW_POINT_TEMPERATURE` - The temperature to which the air would have to cool down in order to reach saturation, unit is Celsius\n",
    "*   `SOLAR_RADIATION` - MJ/m2\n",
    "*   `RAINFALL` - mm\n",
    "*   `SNOWFALL` - cm\n"
   ]
  },
  {
   "cell_type": "markdown",
   "metadata": {},
   "source": [
    "Define a linear regression model specification.\n"
   ]
  },
  {
   "cell_type": "code",
   "execution_count": 18,
   "metadata": {},
   "outputs": [
    {
     "data": {
      "text/plain": [
       "Linear Regression Model Specification (regression)\n",
       "\n",
       "Computational engine: lm \n"
      ]
     },
     "metadata": {},
     "output_type": "display_data"
    }
   ],
   "source": [
    "# Use `linear_reg()` with engine `lm` and mode `regression`\n",
    "lm_spec<- linear_reg() %>% set_engine(engine=\"lm\")\n",
    "lm_spec"
   ]
  },
  {
   "cell_type": "markdown",
   "metadata": {},
   "source": [
    "Fit a model with the response variable `RENTED_BIKE_COUNT` and predictor variables `TEMPERATURE + HUMIDITY + WIND_SPEED + VISIBILITY + DEW_POINT_TEMPERATURE + SOLAR_RADIATION + RAINFALL + SNOWFALL`\n"
   ]
  },
  {
   "cell_type": "code",
   "execution_count": 19,
   "metadata": {},
   "outputs": [],
   "source": [
    "# Fit the model called `lm_model_weather`\n",
    "# RENTED_BIKE_COUNT ~ TEMPERATURE + HUMIDITY + WIND_SPEED + VISIBILITY + DEW_POINT_TEMPERATURE + SOLAR_RADIATION + RAINFALL + SNOWFALL,  with the training data\n",
    "lm_model_weather<- lm_spec %>% fit(RENTED_BIKE_COUNT ~ TEMPERATURE + HUMIDITY + WIND_SPEED + VISIBILITY + DEW_POINT_TEMPERATURE + SOLAR_RADIATION + RAINFALL + SNOWFALL, data=train_data)"
   ]
  },
  {
   "cell_type": "markdown",
   "metadata": {},
   "source": [
    "Print the fit summary for the `lm_model_weather` model.\n"
   ]
  },
  {
   "cell_type": "code",
   "execution_count": 20,
   "metadata": {},
   "outputs": [
    {
     "name": "stdout",
     "output_type": "stream",
     "text": [
      "\n",
      "Call:\n",
      "stats::lm(formula = RENTED_BIKE_COUNT ~ TEMPERATURE + HUMIDITY + \n",
      "    WIND_SPEED + VISIBILITY + DEW_POINT_TEMPERATURE + SOLAR_RADIATION + \n",
      "    RAINFALL + SNOWFALL, data = data)\n",
      "\n",
      "Coefficients:\n",
      "          (Intercept)            TEMPERATURE               HUMIDITY  \n",
      "              171.370               2210.928              -1003.792  \n",
      "           WIND_SPEED             VISIBILITY  DEW_POINT_TEMPERATURE  \n",
      "              422.516                  4.582               -100.903  \n",
      "      SOLAR_RADIATION               RAINFALL               SNOWFALL  \n",
      "             -407.845              -2090.642                331.864  \n",
      "\n"
     ]
    }
   ],
   "source": [
    "print(lm_model_weather$fit)"
   ]
  },
  {
   "cell_type": "markdown",
   "metadata": {},
   "source": [
    "You should see the model details such as formula, residuals, and coefficients.\n"
   ]
  },
  {
   "cell_type": "markdown",
   "metadata": {},
   "source": [
    "# TASK: Build a linear regression model using all variables\n"
   ]
  },
  {
   "cell_type": "markdown",
   "metadata": {},
   "source": [
    "In addition to weather, there could be other factors that may affect bike rental demand, such as the time of a day or if today is a holiday or not.\n"
   ]
  },
  {
   "cell_type": "markdown",
   "metadata": {},
   "source": [
    "Next, let's build a linear regression model using all variables (weather + date/time) in this task.\n"
   ]
  },
  {
   "cell_type": "markdown",
   "metadata": {},
   "source": [
    "*TODO:* Build a linear regression model called `lm_model_all` using all variables `RENTED_BIKE_COUNT ~ .`\n"
   ]
  },
  {
   "cell_type": "code",
   "execution_count": 21,
   "metadata": {},
   "outputs": [],
   "source": [
    "# Fit the model called `lm_model_all`\n",
    "# `RENTED_BIKE_COUNT ~ .` means use all other variables except for the response variable\n",
    "lm_model_all<- lm_spec %>% fit(RENTED_BIKE_COUNT ~ ., data=train_data)\n"
   ]
  },
  {
   "cell_type": "markdown",
   "metadata": {},
   "source": [
    "Print the fit summary for `lm_model_all`.\n"
   ]
  },
  {
   "cell_type": "code",
   "execution_count": 22,
   "metadata": {},
   "outputs": [
    {
     "data": {
      "text/plain": [
       "\n",
       "Call:\n",
       "stats::lm(formula = RENTED_BIKE_COUNT ~ ., data = data)\n",
       "\n",
       "Residuals:\n",
       "    Min      1Q  Median      3Q     Max \n",
       "-1410.1  -217.0    -8.7   200.7  2025.1 \n",
       "\n",
       "Coefficients: (3 not defined because of singularities)\n",
       "                       Estimate Std. Error t value Pr(>|t|)    \n",
       "(Intercept)             254.625     50.277   5.064 4.21e-07 ***\n",
       "TEMPERATURE             590.970    208.972   2.828 0.004699 ** \n",
       "HUMIDITY               -974.192     97.813  -9.960  < 2e-16 ***\n",
       "WIND_SPEED                3.264     39.813   0.082 0.934662    \n",
       "VISIBILITY                3.338     19.826   0.168 0.866281    \n",
       "DEW_POINT_TEMPERATURE   796.057    217.519   3.660 0.000255 ***\n",
       "SOLAR_RADIATION         291.995     41.101   7.104 1.34e-12 ***\n",
       "RAINFALL              -2317.209    166.583 -13.910  < 2e-16 ***\n",
       "SNOWFALL                263.825     96.700   2.728 0.006384 ** \n",
       "`0`                     -16.895     33.520  -0.504 0.614249    \n",
       "`1`                    -128.323     33.375  -3.845 0.000122 ***\n",
       "`10`                   -220.389     32.375  -6.807 1.09e-11 ***\n",
       "`11`                   -220.593     33.175  -6.649 3.19e-11 ***\n",
       "`12`                   -203.231     34.280  -5.928 3.22e-09 ***\n",
       "`13`                   -179.463     34.248  -5.240 1.66e-07 ***\n",
       "`14`                   -183.466     33.911  -5.410 6.52e-08 ***\n",
       "`15`                   -108.625     33.647  -3.228 0.001251 ** \n",
       "`16`                     34.530     33.664   1.026 0.305062    \n",
       "`17`                    336.930     33.580  10.034  < 2e-16 ***\n",
       "`18`                    797.708     34.028  23.443  < 2e-16 ***\n",
       "`19`                    495.566     34.124  14.522  < 2e-16 ***\n",
       "`2`                    -220.132     33.173  -6.636 3.49e-11 ***\n",
       "`20`                    449.443     33.551  13.396  < 2e-16 ***\n",
       "`21`                    454.048     33.940  13.378  < 2e-16 ***\n",
       "`22`                    344.139     33.625  10.234  < 2e-16 ***\n",
       "`23`                    103.665     33.697   3.076 0.002104 ** \n",
       "`3`                    -307.956     33.413  -9.217  < 2e-16 ***\n",
       "`4`                    -387.267     33.047 -11.719  < 2e-16 ***\n",
       "`5`                    -367.805     33.257 -11.059  < 2e-16 ***\n",
       "`6`                    -203.367     33.188  -6.128 9.45e-10 ***\n",
       "`7`                      92.548     33.193   2.788 0.005316 ** \n",
       "`8`                     454.810     32.460  14.012  < 2e-16 ***\n",
       "`9`                          NA         NA      NA       NA    \n",
       "AUTUMN                  360.852     20.138  17.919  < 2e-16 ***\n",
       "SPRING                  202.465     19.188  10.552  < 2e-16 ***\n",
       "SUMMER                  212.849     28.906   7.364 2.02e-13 ***\n",
       "WINTER                       NA         NA      NA       NA    \n",
       "HOLIDAY                 -99.749     21.812  -4.573 4.89e-06 ***\n",
       "NO_HOLIDAY                   NA         NA      NA       NA    \n",
       "---\n",
       "Signif. codes:  0 ‘***’ 0.001 ‘**’ 0.01 ‘*’ 0.05 ‘.’ 0.1 ‘ ’ 1\n",
       "\n",
       "Residual standard error: 372.8 on 6312 degrees of freedom\n",
       "Multiple R-squared:  0.6671,\tAdjusted R-squared:  0.6653 \n",
       "F-statistic: 361.4 on 35 and 6312 DF,  p-value: < 2.2e-16\n"
      ]
     },
     "metadata": {},
     "output_type": "display_data"
    }
   ],
   "source": [
    "summary(lm_model_all$fit)"
   ]
  },
  {
   "cell_type": "markdown",
   "metadata": {},
   "source": [
    "Now you have built two basic linear regression models with different predictor variables, let's evaluate which model has better performance,\n"
   ]
  },
  {
   "cell_type": "markdown",
   "metadata": {},
   "source": [
    "# TASK: Model evaluation and identification of important variables\n"
   ]
  },
  {
   "cell_type": "markdown",
   "metadata": {},
   "source": [
    "Now that you have built two regression models, `lm_model_weather` and `lm_model_all`, with different predictor variables, you need to compare their performance to see which one is better.\n"
   ]
  },
  {
   "cell_type": "markdown",
   "metadata": {},
   "source": [
    "In this project, you will be asked to use very important metrics that are often used in Statistics to determine the performance of a model:\n",
    "\n",
    "1.  R^2 / R-squared\n",
    "2.  Root Mean Squared Error (RMSE)\n",
    "\n",
    "**R-squared**\n",
    "\n",
    "<p>R squared, also known as the coefficient of determination, is a measure to indicate how close the data is to the fitted regression line. The value of R-squared is the percentage of variation of the response variable (y) that is explained by a linear model.</p>\n",
    "\n",
    "**Root Mean Squared Error (RMSE)**\n",
    "$$\n",
    "RMSE = \\sqrt{MSE}\n",
    "$$\n",
    "\n",
    "As you know, the Mean Squared Error measures the average of the squares of errors, where 'error' is the difference between the actual value ($y$) and the estimated value ($ŷ$).\n",
    "Another metric that is related to MSE is **Root Mean Squared Error (RMSE)** and is simply the square root of MSE.\n"
   ]
  },
  {
   "cell_type": "markdown",
   "metadata": {},
   "source": [
    "We first need to test the `lm_model_weather` and `lm_model_all` models against the test dataset `test_data`, and generate `RENTED_BIKE_COUNT` prediction results.\n"
   ]
  },
  {
   "cell_type": "markdown",
   "metadata": {},
   "source": [
    "*TODO:* Make predictions on the testing dataset using both `lm_model_weather` and `lm_model_all` models\n"
   ]
  },
  {
   "cell_type": "code",
   "execution_count": 23,
   "metadata": {},
   "outputs": [
    {
     "name": "stderr",
     "output_type": "stream",
     "text": [
      "Warning message in predict.lm(object = object$fit, newdata = new_data, type = \"response\"):\n",
      "“prediction from a rank-deficient fit may be misleading”"
     ]
    }
   ],
   "source": [
    "# Use predict() function to generate test results for `lm_model_weather` and `lm_model_all`\n",
    "# and generate two test results dataframe with a truth column:\n",
    "\n",
    "# test_results_weather for lm_model_weather model\n",
    "test_results_weather <- lm_model_weather %>% predict(new_data=test_data) %>% mutate(truth=test_data$RENTED_BIKE_COUNT)\n",
    "# test_results_all for lm_model_all\n",
    "test_results_all <- lm_model_all %>% predict(new_data=test_data) %>% mutate(truth=test_data$RENTED_BIKE_COUNT)\n"
   ]
  },
  {
   "cell_type": "markdown",
   "metadata": {},
   "source": [
    "NOTE: if you happen to see a warning like : `prediction from a rank-deficient fit may be misleading`, it may be casued by collinearity in the predictor variables. Collinearity means that one predictor variable can be predicted from other predictor variables to some degree. For example, `RAINFALL` could be predicted by `HUMIDITY`.\n",
    "\n",
    "But dont worry, you will address `glmnet` models (Lasso and Elastic-Net Regularized Generalized Linear Models) instead of regular `regression` models to solve this issue and futher improve the model performance.\n"
   ]
  },
  {
   "cell_type": "markdown",
   "metadata": {},
   "source": [
    "Next, let's calculate and print the R-squared and RMSE for the two test results\n"
   ]
  },
  {
   "cell_type": "markdown",
   "metadata": {},
   "source": [
    "*TODO:* Use `rsq()` and `rmse()` functions to calculate R-squared and RMSE metrics for the two test results\n"
   ]
  },
  {
   "cell_type": "code",
   "execution_count": 24,
   "metadata": {},
   "outputs": [],
   "source": [
    "rsq_weather <- rsq(test_results_weather, truth=truth, estimate=.pred)\n",
    "rsq_all <- rsq(test_results_all, truth=truth, estimate=.pred)\n",
    "\n",
    "rmse_weather <- rmse(test_results_weather, truth=truth, estimate=.pred)\n",
    "rmse_all <- rmse(test_results_all, truth=truth, estimate=.pred)"
   ]
  },
  {
   "cell_type": "markdown",
   "metadata": {},
   "source": [
    "From these tables, you should find that the test results from `lm_model_all` are much better. It means that using both weather and datetime variables in the model generates better prediction results.\n"
   ]
  },
  {
   "cell_type": "markdown",
   "metadata": {},
   "source": [
    "Since `lm_model_all` has many predictor variables, let's check which predictor variables have larger coefficients. Variables with larger coefficients in the model means they attribute more in the prediction of `RENTED_BIKE_COUNT`. In addition, since all predictor variables are normalized to the same scale, 0 to 1, we thus can compare their coefficients directly.\n"
   ]
  },
  {
   "cell_type": "markdown",
   "metadata": {},
   "source": [
    "You could try building another regression model using the non-normalized `seoul_bike_sharing_converted.csv` dataset, and you would find that the coefficients are much different.\n"
   ]
  },
  {
   "cell_type": "markdown",
   "metadata": {},
   "source": [
    "First let's print all coefficients:\n"
   ]
  },
  {
   "cell_type": "code",
   "execution_count": 25,
   "metadata": {},
   "outputs": [
    {
     "data": {
      "text/html": [
       "<style>\n",
       ".dl-inline {width: auto; margin:0; padding: 0}\n",
       ".dl-inline>dt, .dl-inline>dd {float: none; width: auto; display: inline-block}\n",
       ".dl-inline>dt::after {content: \":\\0020\"; padding-right: .5ex}\n",
       ".dl-inline>dt:not(:first-of-type) {padding-left: .5ex}\n",
       "</style><dl class=dl-inline><dt>(Intercept)</dt><dd>254.624713841887</dd><dt>TEMPERATURE</dt><dd>590.970013169704</dd><dt>HUMIDITY</dt><dd>-974.191665853887</dd><dt>WIND_SPEED</dt><dd>3.26403322110033</dd><dt>VISIBILITY</dt><dd>3.33846758815491</dd><dt>DEW_POINT_TEMPERATURE</dt><dd>796.057154996279</dd><dt>SOLAR_RADIATION</dt><dd>291.994911876061</dd><dt>RAINFALL</dt><dd>-2317.20898113899</dd><dt>SNOWFALL</dt><dd>263.824807690223</dd><dt>`0`</dt><dd>-16.8953081872251</dd><dt>`1`</dt><dd>-128.323156930108</dd><dt>`10`</dt><dd>-220.388845946249</dd><dt>`11`</dt><dd>-220.593196981749</dd><dt>`12`</dt><dd>-203.230668526479</dd><dt>`13`</dt><dd>-179.463293490874</dd><dt>`14`</dt><dd>-183.46633365467</dd><dt>`15`</dt><dd>-108.625201366895</dd><dt>`16`</dt><dd>34.5303135068687</dd><dt>`17`</dt><dd>336.929992543532</dd><dt>`18`</dt><dd>797.708010787831</dd><dt>`19`</dt><dd>495.566233185417</dd><dt>`2`</dt><dd>-220.132469200939</dd><dt>`20`</dt><dd>449.442738955973</dd><dt>`21`</dt><dd>454.047517540653</dd><dt>`22`</dt><dd>344.138641820235</dd><dt>`23`</dt><dd>103.665012190421</dd><dt>`3`</dt><dd>-307.955780172193</dd><dt>`4`</dt><dd>-387.267047105129</dd><dt>`5`</dt><dd>-367.804644005323</dd><dt>`6`</dt><dd>-203.366761849977</dd><dt>`7`</dt><dd>92.5484678840223</dd><dt>`8`</dt><dd>454.810323199463</dd><dt>`9`</dt><dd>&lt;NA&gt;</dd><dt>AUTUMN</dt><dd>360.852377661853</dd><dt>SPRING</dt><dd>202.464657365026</dd><dt>SUMMER</dt><dd>212.849374276925</dd><dt>WINTER</dt><dd>&lt;NA&gt;</dd><dt>HOLIDAY</dt><dd>-99.7491194802854</dd><dt>NO_HOLIDAY</dt><dd>&lt;NA&gt;</dd></dl>\n"
      ],
      "text/latex": [
       "\\begin{description*}\n",
       "\\item[(Intercept)] 254.624713841887\n",
       "\\item[TEMPERATURE] 590.970013169704\n",
       "\\item[HUMIDITY] -974.191665853887\n",
       "\\item[WIND\\textbackslash{}\\_SPEED] 3.26403322110033\n",
       "\\item[VISIBILITY] 3.33846758815491\n",
       "\\item[DEW\\textbackslash{}\\_POINT\\textbackslash{}\\_TEMPERATURE] 796.057154996279\n",
       "\\item[SOLAR\\textbackslash{}\\_RADIATION] 291.994911876061\n",
       "\\item[RAINFALL] -2317.20898113899\n",
       "\\item[SNOWFALL] 263.824807690223\n",
       "\\item[`0`] -16.8953081872251\n",
       "\\item[`1`] -128.323156930108\n",
       "\\item[`10`] -220.388845946249\n",
       "\\item[`11`] -220.593196981749\n",
       "\\item[`12`] -203.230668526479\n",
       "\\item[`13`] -179.463293490874\n",
       "\\item[`14`] -183.46633365467\n",
       "\\item[`15`] -108.625201366895\n",
       "\\item[`16`] 34.5303135068687\n",
       "\\item[`17`] 336.929992543532\n",
       "\\item[`18`] 797.708010787831\n",
       "\\item[`19`] 495.566233185417\n",
       "\\item[`2`] -220.132469200939\n",
       "\\item[`20`] 449.442738955973\n",
       "\\item[`21`] 454.047517540653\n",
       "\\item[`22`] 344.138641820235\n",
       "\\item[`23`] 103.665012190421\n",
       "\\item[`3`] -307.955780172193\n",
       "\\item[`4`] -387.267047105129\n",
       "\\item[`5`] -367.804644005323\n",
       "\\item[`6`] -203.366761849977\n",
       "\\item[`7`] 92.5484678840223\n",
       "\\item[`8`] 454.810323199463\n",
       "\\item[`9`] <NA>\n",
       "\\item[AUTUMN] 360.852377661853\n",
       "\\item[SPRING] 202.464657365026\n",
       "\\item[SUMMER] 212.849374276925\n",
       "\\item[WINTER] <NA>\n",
       "\\item[HOLIDAY] -99.7491194802854\n",
       "\\item[NO\\textbackslash{}\\_HOLIDAY] <NA>\n",
       "\\end{description*}\n"
      ],
      "text/markdown": [
       "(Intercept)\n",
       ":   254.624713841887TEMPERATURE\n",
       ":   590.970013169704HUMIDITY\n",
       ":   -974.191665853887WIND_SPEED\n",
       ":   3.26403322110033VISIBILITY\n",
       ":   3.33846758815491DEW_POINT_TEMPERATURE\n",
       ":   796.057154996279SOLAR_RADIATION\n",
       ":   291.994911876061RAINFALL\n",
       ":   -2317.20898113899SNOWFALL\n",
       ":   263.824807690223`0`\n",
       ":   -16.8953081872251`1`\n",
       ":   -128.323156930108`10`\n",
       ":   -220.388845946249`11`\n",
       ":   -220.593196981749`12`\n",
       ":   -203.230668526479`13`\n",
       ":   -179.463293490874`14`\n",
       ":   -183.46633365467`15`\n",
       ":   -108.625201366895`16`\n",
       ":   34.5303135068687`17`\n",
       ":   336.929992543532`18`\n",
       ":   797.708010787831`19`\n",
       ":   495.566233185417`2`\n",
       ":   -220.132469200939`20`\n",
       ":   449.442738955973`21`\n",
       ":   454.047517540653`22`\n",
       ":   344.138641820235`23`\n",
       ":   103.665012190421`3`\n",
       ":   -307.955780172193`4`\n",
       ":   -387.267047105129`5`\n",
       ":   -367.804644005323`6`\n",
       ":   -203.366761849977`7`\n",
       ":   92.5484678840223`8`\n",
       ":   454.810323199463`9`\n",
       ":   &lt;NA&gt;AUTUMN\n",
       ":   360.852377661853SPRING\n",
       ":   202.464657365026SUMMER\n",
       ":   212.849374276925WINTER\n",
       ":   &lt;NA&gt;HOLIDAY\n",
       ":   -99.7491194802854NO_HOLIDAY\n",
       ":   &lt;NA&gt;\n",
       "\n"
      ],
      "text/plain": [
       "          (Intercept)           TEMPERATURE              HUMIDITY \n",
       "           254.624714            590.970013           -974.191666 \n",
       "           WIND_SPEED            VISIBILITY DEW_POINT_TEMPERATURE \n",
       "             3.264033              3.338468            796.057155 \n",
       "      SOLAR_RADIATION              RAINFALL              SNOWFALL \n",
       "           291.994912          -2317.208981            263.824808 \n",
       "                  `0`                   `1`                  `10` \n",
       "           -16.895308           -128.323157           -220.388846 \n",
       "                 `11`                  `12`                  `13` \n",
       "          -220.593197           -203.230669           -179.463293 \n",
       "                 `14`                  `15`                  `16` \n",
       "          -183.466334           -108.625201             34.530314 \n",
       "                 `17`                  `18`                  `19` \n",
       "           336.929993            797.708011            495.566233 \n",
       "                  `2`                  `20`                  `21` \n",
       "          -220.132469            449.442739            454.047518 \n",
       "                 `22`                  `23`                   `3` \n",
       "           344.138642            103.665012           -307.955780 \n",
       "                  `4`                   `5`                   `6` \n",
       "          -387.267047           -367.804644           -203.366762 \n",
       "                  `7`                   `8`                   `9` \n",
       "            92.548468            454.810323                    NA \n",
       "               AUTUMN                SPRING                SUMMER \n",
       "           360.852378            202.464657            212.849374 \n",
       "               WINTER               HOLIDAY            NO_HOLIDAY \n",
       "                   NA            -99.749119                    NA "
      ]
     },
     "metadata": {},
     "output_type": "display_data"
    }
   ],
   "source": [
    "lm_model_all$fit$coefficients"
   ]
  },
  {
   "cell_type": "markdown",
   "metadata": {},
   "source": [
    "hmm, it's not very clear to compare the coefficients from a long and unsorted list. Next, you need to sort and visualize them using a bar chart\n"
   ]
  },
  {
   "cell_type": "markdown",
   "metadata": {},
   "source": [
    "*TODO:* Sort the coefficient list in descending order and visualize the result using `ggplot` and `geom_bar`\n"
   ]
  },
  {
   "cell_type": "code",
   "execution_count": 29,
   "metadata": {},
   "outputs": [],
   "source": [
    "# Sort coefficient list\n",
    "coefficient<-sort(lm_model_all$fit$coefficients, decreasing=TRUE)\n",
    "Coefficients_df<-data.frame(coefficient)\n",
    "Variables<-factor(row.names(Coefficients_df))"
   ]
  },
  {
   "cell_type": "code",
   "execution_count": 30,
   "metadata": {},
   "outputs": [
    {
     "data": {},
     "metadata": {},
     "output_type": "display_data"
    },
    {
     "data": {
      "image/png": "[encoded data removed]",
      "text/plain": [
       "plot without title"
      ]
     },
     "metadata": {},
     "output_type": "display_data",
     "source": "R display func"
    }
   ],
   "source": [
    "# Visualize the list using ggplot and geom_bar\n",
    "ggplot(Coefficients_df,aes(reorder(Variables,coefficient) , coefficient))+ geom_col()+  coord_flip()\n",
    "       "
   ]
  },
  {
   "cell_type": "markdown",
   "metadata": {},
   "source": [
    "You should see a sorted coefficient bar chart like the following example:\n"
   ]
  },
  {
   "cell_type": "markdown",
   "metadata": {},
   "source": [
    "<a href=\"https://cognitiveclass.ai/?utm_medium=Exinfluencer&utm_source=Exinfluencer&utm_content=000026UJ&utm_term=10006555&utm_id=NA-SkillsNetwork-Channel-SkillsNetworkCoursesIBMDeveloperSkillsNetworkRP0321ENSkillsNetwork25371262-2022-01-01\">\n",
    "    <img src=\"https://cf-courses-data.s3.us.cloud-object-storage.appdomain.cloud/IBMDeveloperSkillsNetwork-RP0321EN-SkillsNetwork/labs/module_4/images/coefficient_chart.png\" width=\"600\" align=\"center\">\n",
    "</a>\n"
   ]
  },
  {
   "cell_type": "markdown",
   "metadata": {},
   "source": [
    "Mark down these 'top-ranked variables by coefficient', which will be used for model refinments in the next labs.\n"
   ]
  },
  {
   "cell_type": "markdown",
   "metadata": {},
   "source": [
    "Note that here the main reason we use absolute value is to easily identify important variables, i.e. variables with large magnitudes, no matter it's negative or positive. If we want to interprete the model then it's better to seperate the positive and negative coefficients.\n"
   ]
  },
  {
   "cell_type": "markdown",
   "metadata": {},
   "source": [
    "# Next Steps\n"
   ]
  },
  {
   "cell_type": "markdown",
   "metadata": {},
   "source": [
    "Great! Now you have built a baseline linear regression model to predict hourly bike rent count, with reasonably good performance. In the next lab, you will be refining the baseline model to improve its performance.\n"
   ]
  },
  {
   "cell_type": "markdown",
   "metadata": {},
   "source": [
    "## Authors\n",
    "\n",
    "<a href=\"https://www.linkedin.com/in/yan-luo-96288783/?utm_medium=Exinfluencer&utm_source=Exinfluencer&utm_content=000026UJ&utm_term=10006555&utm_id=NA-SkillsNetwork-Channel-SkillsNetworkCoursesIBMDeveloperSkillsNetworkRP0321ENSkillsNetwork25371262-2022-01-01\" target=\"_blank\">Yan Luo</a>\n"
   ]
  },
  {
   "cell_type": "markdown",
   "metadata": {},
   "source": [
    "### Other Contributors\n",
    "\n",
    "Jeff Grossman\n"
   ]
  },
  {
   "cell_type": "markdown",
   "metadata": {},
   "source": [
    "## Change Log\n",
    "\n",
    "| Date (YYYY-MM-DD) | Version | Changed By | Change Description      |\n",
    "| ----------------- | ------- | ---------- | ----------------------- |\n",
    "| 2021-04-08        | 1.0     | Yan        | Initial version created |\n",
    "|                   |         |            |                         |\n",
    "|                   |         |            |                         |\n",
    "\n",
    "## <h3 align=\"center\"> © IBM Corporation 2021. All rights reserved. <h3/>\n"
   ]
  }
 ],
 "metadata": {
  "kernelspec": {
   "display_name": "R",
   "language": "R",
   "name": "conda-env-r-r"
  },
  "language_info": {
   "codemirror_mode": "r",
   "file_extension": ".r",
   "mimetype": "text/x-r-source",
   "name": "R",
   "pygments_lexer": "r",
   "version": "3.5.1"
  }
 },
 "nbformat": 4,
 "nbformat_minor": 4
}
